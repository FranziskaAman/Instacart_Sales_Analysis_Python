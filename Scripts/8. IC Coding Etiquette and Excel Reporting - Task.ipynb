{
 "cells": [
  {
   "cell_type": "markdown",
   "id": "b3572847",
   "metadata": {},
   "source": [
    "Table of Contents: \n",
    "1. Importing Libraries and Dataframes\n",
    "2. Consider any security implications that might exist for this new data\n",
    "3. Create a regional segmentation of the data\n",
    "4. Create an exclusion flag for low-activity customers\n",
    "5. Create a profiling variable based on age, income, certain goods in the “department_id” column, and number of dependents\n",
    "6. Create an appropriate visualization to show the distribution of profiles\n",
    "7. Aggregate the max, mean, and min variables on a customer-profile level for usage frequency and expenditure\n",
    "8. Identify links in customer profiles with regions and departments and visualizing them\n",
    "9. Additional analysis for final report:"
   ]
  },
  {
   "cell_type": "markdown",
   "id": "66683608",
   "metadata": {},
   "source": [
    "### 1. Importing Libararies and Dataframe"
   ]
  },
  {
   "cell_type": "code",
   "execution_count": 8,
   "id": "a2e7bd91",
   "metadata": {},
   "outputs": [],
   "source": [
    "# Import Analysis Libraries\n",
    "import os\n",
    "import numpy as np\n",
    "import pandas as pd\n",
    "import seaborn as sn"
   ]
  },
  {
   "cell_type": "code",
   "execution_count": 2,
   "id": "75923773",
   "metadata": {},
   "outputs": [],
   "source": [
    "# Set path\n",
    "path = r'C:\\Users\\franz\\Documents\\Exercise_4'"
   ]
  },
  {
   "cell_type": "markdown",
   "id": "f79cb610",
   "metadata": {},
   "source": [
    "#### As I am always getting memory errors when trying to import the merged version of exercise 4.9 (even when using the relevant columns for part 1 only), I will import the data set with the relevant variables separately in each task. "
   ]
  },
  {
   "cell_type": "code",
   "execution_count": 4,
   "id": "5bea16cb",
   "metadata": {
    "scrolled": true
   },
   "outputs": [],
   "source": [
    "# Importing only the relevant columns due to memory issues\n",
    "relevant_variables = 'order_number', 'age', 'prices', 'income', 'department_id', 'n_dependants', 'orders_day_of_week', 'order_hour_of_day', 'user_id', 'state', 'date_joined', 'marital_status', 'gender', 'spending_flag'\n",
    "ords_prods_cust = pd.read_csv(os.path.join(path, '02_Data','prepared_data', 'ords_prods_cust_merge.csv'), usecols = relevant_variables)"
   ]
  },
  {
   "cell_type": "markdown",
   "id": "4e90280e",
   "metadata": {},
   "source": [
    "### 2. Consider any security implications that might exist for this new data"
   ]
  },
  {
   "cell_type": "markdown",
   "id": "9e0096c3",
   "metadata": {},
   "source": [
    "I have to check if I have received personally identifiable information (PII). This type of data is covered extensively in the GDPR, a data privacy regulation in the European Union that governs the storage, usage, and sharing of data. If even a single column within your data set could potentially be traced back to a particular person, then you’re working with PII. Particularly sensitive are names, email addresses, physical addresses, and phone numbers.\n",
    "\n",
    "The following columns are PII´s:\n",
    "first_name\n",
    "last_name\n",
    "\n",
    "Therefore, I will not import these columns to Jupyter and will not perform any analysis with that data."
   ]
  },
  {
   "cell_type": "markdown",
   "id": "20eaa05e",
   "metadata": {},
   "source": [
    "### 3. Create a regional segmentation of the data"
   ]
  },
  {
   "cell_type": "markdown",
   "id": "17e3629b",
   "metadata": {},
   "source": [
    "The Instacart officers are interested in comparing customer behavior in different geographic areas. Create a regional segmentation of the data. You’ll need to create a “Region” column based on the “State” column from your customers data set.\n",
    "\n",
    "Use the region information in this Wikipedia article to create your column (you only need to create regions, not divisions).\n",
    "\n",
    "Determine whether there’s a difference in spending habits between the different U.S. regions. (Hint: You can do this by crossing the variable you just created with the spending flag.)"
   ]
  },
  {
   "cell_type": "code",
   "execution_count": 3,
   "id": "84510eb5",
   "metadata": {},
   "outputs": [],
   "source": [
    "# Importing only the relevant columns due to memory issues\n",
    "relevant_variables = 'user_id', 'state', 'department_id', 'prices', 'user_id', 'order_number', 'age', 'n_dependants', 'income'\n",
    "ords_prods_cust_task3 = pd.read_csv(os.path.join(path, '02_Data','prepared_data', 'ords_prods_cust_merge.csv'), usecols = relevant_variables)"
   ]
  },
  {
   "cell_type": "code",
   "execution_count": 5,
   "id": "d3deede3",
   "metadata": {},
   "outputs": [],
   "source": [
    "# Data Export: \n",
    "ords_prods_cust_task3.to_pickle(os.path.join(path, '02_data','prepared_data', '4.10_task3_pre_analysis.pkl'))"
   ]
  },
  {
   "cell_type": "code",
   "execution_count": 12,
   "id": "3fd491dc",
   "metadata": {},
   "outputs": [],
   "source": [
    "ords_prods_cust = ords_prods_cust_task3"
   ]
  },
  {
   "cell_type": "code",
   "execution_count": 13,
   "id": "b1db719c",
   "metadata": {
    "scrolled": true
   },
   "outputs": [
    {
     "data": {
      "text/html": [
       "<div>\n",
       "<style scoped>\n",
       "    .dataframe tbody tr th:only-of-type {\n",
       "        vertical-align: middle;\n",
       "    }\n",
       "\n",
       "    .dataframe tbody tr th {\n",
       "        vertical-align: top;\n",
       "    }\n",
       "\n",
       "    .dataframe thead th {\n",
       "        text-align: right;\n",
       "    }\n",
       "</style>\n",
       "<table border=\"1\" class=\"dataframe\">\n",
       "  <thead>\n",
       "    <tr style=\"text-align: right;\">\n",
       "      <th></th>\n",
       "      <th>department_id</th>\n",
       "      <th>prices</th>\n",
       "      <th>user_id</th>\n",
       "      <th>order_number</th>\n",
       "      <th>state</th>\n",
       "      <th>age</th>\n",
       "      <th>n_dependants</th>\n",
       "      <th>income</th>\n",
       "      <th>region</th>\n",
       "    </tr>\n",
       "  </thead>\n",
       "  <tbody>\n",
       "    <tr>\n",
       "      <th>0</th>\n",
       "      <td>19</td>\n",
       "      <td>5.8</td>\n",
       "      <td>138</td>\n",
       "      <td>28</td>\n",
       "      <td>Minnesota</td>\n",
       "      <td>81</td>\n",
       "      <td>1</td>\n",
       "      <td>49620</td>\n",
       "      <td>Region 2 (Midwest)</td>\n",
       "    </tr>\n",
       "    <tr>\n",
       "      <th>1</th>\n",
       "      <td>19</td>\n",
       "      <td>5.8</td>\n",
       "      <td>138</td>\n",
       "      <td>30</td>\n",
       "      <td>Minnesota</td>\n",
       "      <td>81</td>\n",
       "      <td>1</td>\n",
       "      <td>49620</td>\n",
       "      <td>Region 2 (Midwest)</td>\n",
       "    </tr>\n",
       "    <tr>\n",
       "      <th>2</th>\n",
       "      <td>12</td>\n",
       "      <td>20.0</td>\n",
       "      <td>138</td>\n",
       "      <td>1</td>\n",
       "      <td>Minnesota</td>\n",
       "      <td>81</td>\n",
       "      <td>1</td>\n",
       "      <td>49620</td>\n",
       "      <td>Region 2 (Midwest)</td>\n",
       "    </tr>\n",
       "    <tr>\n",
       "      <th>3</th>\n",
       "      <td>12</td>\n",
       "      <td>20.0</td>\n",
       "      <td>138</td>\n",
       "      <td>10</td>\n",
       "      <td>Minnesota</td>\n",
       "      <td>81</td>\n",
       "      <td>1</td>\n",
       "      <td>49620</td>\n",
       "      <td>Region 2 (Midwest)</td>\n",
       "    </tr>\n",
       "    <tr>\n",
       "      <th>4</th>\n",
       "      <td>10</td>\n",
       "      <td>12.9</td>\n",
       "      <td>138</td>\n",
       "      <td>9</td>\n",
       "      <td>Minnesota</td>\n",
       "      <td>81</td>\n",
       "      <td>1</td>\n",
       "      <td>49620</td>\n",
       "      <td>Region 2 (Midwest)</td>\n",
       "    </tr>\n",
       "  </tbody>\n",
       "</table>\n",
       "</div>"
      ],
      "text/plain": [
       "   department_id  prices  user_id  order_number      state  age  n_dependants  \\\n",
       "0             19     5.8      138            28  Minnesota   81             1   \n",
       "1             19     5.8      138            30  Minnesota   81             1   \n",
       "2             12    20.0      138             1  Minnesota   81             1   \n",
       "3             12    20.0      138            10  Minnesota   81             1   \n",
       "4             10    12.9      138             9  Minnesota   81             1   \n",
       "\n",
       "   income              region  \n",
       "0   49620  Region 2 (Midwest)  \n",
       "1   49620  Region 2 (Midwest)  \n",
       "2   49620  Region 2 (Midwest)  \n",
       "3   49620  Region 2 (Midwest)  \n",
       "4   49620  Region 2 (Midwest)  "
      ]
     },
     "execution_count": 13,
     "metadata": {},
     "output_type": "execute_result"
    }
   ],
   "source": [
    "ords_prods_cust.head()"
   ]
  },
  {
   "cell_type": "code",
   "execution_count": 14,
   "id": "6d8cbd7b",
   "metadata": {},
   "outputs": [],
   "source": [
    "# creating a for-loop to assign the regions to the different states in a result_task3 list:\n",
    "\n",
    "result_task3 = []\n",
    "\n",
    "for value in ords_prods_cust[\"state\"]:\n",
    "    if value == 'Maine' or value == 'New Hampshire' or value == 'Vermont' or value == 'Massachusetts' or value == 'Rhode Island' or value == 'Connecticut' or value == 'New York' or value == 'Pennsylvania' or value == 'New Jersey': \n",
    "        result_task3.append('Region 1 (Northeast)')\n",
    "    elif value == 'Wisconsin' or value == 'Michigan' or value == 'Illinois' or value == 'Indiana' or value == 'Ohio' or value == 'North Dakota' or value == 'South Dakota' or value == 'Nebraska' or value == 'Kansas' or value == 'Minnesota' or value == 'Iowa' or value == 'Missouri':\n",
    "        result_task3.append('Region 2 (Midwest)')\n",
    "    elif value == 'Delaware' or value == 'Maryland' or value == 'District of Columbia' or value == 'Virginia' or value == 'West Virginia' or value == 'North Carolina' or value == 'South Carolina' or value == 'Georgia' or value == 'Florida' or value == 'Kentucky' or value == 'Mississippi' or value == 'Alabama' or value == 'Tennessee' or value == 'Texas' or value == 'Arkansas' or value == 'Louisiana' or value == 'Oklahoma':\n",
    "        result_task3.append('Region 3 (South)')\n",
    "    elif value == 'Idaho' or value == 'Montana' or value == 'Wyoming' or value == 'Nevada' or value == 'Utah'or value == 'Colorado' or value == 'Arizona' or value == 'New Mexico' or value == 'Alaska' or value == 'Washington' or value == 'Oregon' or value == 'California' or value == 'Hawaii':\n",
    "        result_task3.append('Region 4 (West)')\n",
    "    else: \n",
    "        result_task3.append('unknown state')"
   ]
  },
  {
   "cell_type": "code",
   "execution_count": 15,
   "id": "d9e68840",
   "metadata": {},
   "outputs": [],
   "source": [
    "# create a new column and assign the result - list\n",
    "ords_prods_cust['region'] = result_task3"
   ]
  },
  {
   "cell_type": "code",
   "execution_count": 17,
   "id": "71007c1b",
   "metadata": {},
   "outputs": [
    {
     "data": {
      "text/html": [
       "<div>\n",
       "<style scoped>\n",
       "    .dataframe tbody tr th:only-of-type {\n",
       "        vertical-align: middle;\n",
       "    }\n",
       "\n",
       "    .dataframe tbody tr th {\n",
       "        vertical-align: top;\n",
       "    }\n",
       "\n",
       "    .dataframe thead th {\n",
       "        text-align: right;\n",
       "    }\n",
       "</style>\n",
       "<table border=\"1\" class=\"dataframe\">\n",
       "  <thead>\n",
       "    <tr style=\"text-align: right;\">\n",
       "      <th></th>\n",
       "      <th>department_id</th>\n",
       "      <th>prices</th>\n",
       "      <th>user_id</th>\n",
       "      <th>order_number</th>\n",
       "      <th>state</th>\n",
       "      <th>age</th>\n",
       "      <th>n_dependants</th>\n",
       "      <th>income</th>\n",
       "      <th>region</th>\n",
       "    </tr>\n",
       "  </thead>\n",
       "  <tbody>\n",
       "    <tr>\n",
       "      <th>0</th>\n",
       "      <td>19</td>\n",
       "      <td>5.8</td>\n",
       "      <td>138</td>\n",
       "      <td>28</td>\n",
       "      <td>Minnesota</td>\n",
       "      <td>81</td>\n",
       "      <td>1</td>\n",
       "      <td>49620</td>\n",
       "      <td>Region 2 (Midwest)</td>\n",
       "    </tr>\n",
       "    <tr>\n",
       "      <th>1</th>\n",
       "      <td>19</td>\n",
       "      <td>5.8</td>\n",
       "      <td>138</td>\n",
       "      <td>30</td>\n",
       "      <td>Minnesota</td>\n",
       "      <td>81</td>\n",
       "      <td>1</td>\n",
       "      <td>49620</td>\n",
       "      <td>Region 2 (Midwest)</td>\n",
       "    </tr>\n",
       "    <tr>\n",
       "      <th>2</th>\n",
       "      <td>12</td>\n",
       "      <td>20.0</td>\n",
       "      <td>138</td>\n",
       "      <td>1</td>\n",
       "      <td>Minnesota</td>\n",
       "      <td>81</td>\n",
       "      <td>1</td>\n",
       "      <td>49620</td>\n",
       "      <td>Region 2 (Midwest)</td>\n",
       "    </tr>\n",
       "    <tr>\n",
       "      <th>3</th>\n",
       "      <td>12</td>\n",
       "      <td>20.0</td>\n",
       "      <td>138</td>\n",
       "      <td>10</td>\n",
       "      <td>Minnesota</td>\n",
       "      <td>81</td>\n",
       "      <td>1</td>\n",
       "      <td>49620</td>\n",
       "      <td>Region 2 (Midwest)</td>\n",
       "    </tr>\n",
       "    <tr>\n",
       "      <th>4</th>\n",
       "      <td>10</td>\n",
       "      <td>12.9</td>\n",
       "      <td>138</td>\n",
       "      <td>9</td>\n",
       "      <td>Minnesota</td>\n",
       "      <td>81</td>\n",
       "      <td>1</td>\n",
       "      <td>49620</td>\n",
       "      <td>Region 2 (Midwest)</td>\n",
       "    </tr>\n",
       "  </tbody>\n",
       "</table>\n",
       "</div>"
      ],
      "text/plain": [
       "   department_id  prices  user_id  order_number      state  age  n_dependants  \\\n",
       "0             19     5.8      138            28  Minnesota   81             1   \n",
       "1             19     5.8      138            30  Minnesota   81             1   \n",
       "2             12    20.0      138             1  Minnesota   81             1   \n",
       "3             12    20.0      138            10  Minnesota   81             1   \n",
       "4             10    12.9      138             9  Minnesota   81             1   \n",
       "\n",
       "   income              region  \n",
       "0   49620  Region 2 (Midwest)  \n",
       "1   49620  Region 2 (Midwest)  \n",
       "2   49620  Region 2 (Midwest)  \n",
       "3   49620  Region 2 (Midwest)  \n",
       "4   49620  Region 2 (Midwest)  "
      ]
     },
     "execution_count": 17,
     "metadata": {},
     "output_type": "execute_result"
    }
   ],
   "source": [
    "ords_prods_cust.head()"
   ]
  },
  {
   "cell_type": "code",
   "execution_count": 18,
   "id": "992b92f7",
   "metadata": {},
   "outputs": [
    {
     "data": {
      "text/plain": [
       "Region 3 (South)        10791885\n",
       "Region 4 (West)          8292913\n",
       "Region 2 (Midwest)       7597325\n",
       "Region 1 (Northeast)     5722736\n",
       "Name: region, dtype: int64"
      ]
     },
     "execution_count": 18,
     "metadata": {},
     "output_type": "execute_result"
    }
   ],
   "source": [
    "ords_prods_cust['region'].value_counts()"
   ]
  },
  {
   "cell_type": "code",
   "execution_count": 18,
   "id": "d7bc59cb",
   "metadata": {},
   "outputs": [],
   "source": [
    "# performing crosstab for check of missspelled state names\n",
    "crosstab = pd.crosstab(ords_prods_cust['region'], ords_prods_cust['state'], dropna = False)"
   ]
  },
  {
   "cell_type": "code",
   "execution_count": 19,
   "id": "ab5c1f98",
   "metadata": {},
   "outputs": [],
   "source": [
    "# copy the table straight to your clipboard, allowing you to then paste it into Excel for easy viewing. \n",
    "crosstab.to_clipboard()"
   ]
  },
  {
   "cell_type": "markdown",
   "id": "2f7deb5c",
   "metadata": {},
   "source": [
    "Based on crosstab, Indiana was missing in my for-loop. I have added it now. Therefore, no unknown states are assigned anymore."
   ]
  },
  {
   "cell_type": "code",
   "execution_count": 10,
   "id": "b2d135f1",
   "metadata": {},
   "outputs": [],
   "source": [
    "# Data Export: \n",
    "ords_prods_cust.to_pickle(os.path.join(path, '02_data','prepared_data', '4.10_task3.pkl'))"
   ]
  },
  {
   "cell_type": "markdown",
   "id": "af587dfb",
   "metadata": {},
   "source": [
    "### 4. Create an exclusion flag for low-activity customers"
   ]
  },
  {
   "cell_type": "markdown",
   "id": "84407ed3",
   "metadata": {},
   "source": [
    "The Instacart CFO isn’t interested in customers who don’t generate much revenue for the app. Create an exclusion flag for low-activity customers (customers with less than 5 orders) and exclude them from the data. Make sure you export this sample."
   ]
  },
  {
   "cell_type": "code",
   "execution_count": 9,
   "id": "5173e686",
   "metadata": {},
   "outputs": [],
   "source": [
    "# creating a for-loop to assign the low-activity flag in a result_task4 list:\n",
    "\n",
    "result_task4 = []\n",
    "\n",
    "for value in ords_prods_cust[\"order_number\"]:\n",
    "    if value <= 5:\n",
    "        result_task4.append('low_activity_customer')\n",
    "    else: \n",
    "        result_task4.append('high_activity_customer')"
   ]
  },
  {
   "cell_type": "code",
   "execution_count": 10,
   "id": "aa27d722",
   "metadata": {},
   "outputs": [],
   "source": [
    "# create a new column and assign the result - list\n",
    "ords_prods_cust['exclusion_flag'] = result_task4"
   ]
  },
  {
   "cell_type": "code",
   "execution_count": 21,
   "id": "a570b281",
   "metadata": {},
   "outputs": [
    {
     "data": {
      "text/html": [
       "<div>\n",
       "<style scoped>\n",
       "    .dataframe tbody tr th:only-of-type {\n",
       "        vertical-align: middle;\n",
       "    }\n",
       "\n",
       "    .dataframe tbody tr th {\n",
       "        vertical-align: top;\n",
       "    }\n",
       "\n",
       "    .dataframe thead th {\n",
       "        text-align: right;\n",
       "    }\n",
       "</style>\n",
       "<table border=\"1\" class=\"dataframe\">\n",
       "  <thead>\n",
       "    <tr style=\"text-align: right;\">\n",
       "      <th></th>\n",
       "      <th>department_id</th>\n",
       "      <th>prices</th>\n",
       "      <th>user_id</th>\n",
       "      <th>order_number</th>\n",
       "      <th>state</th>\n",
       "      <th>age</th>\n",
       "      <th>n_dependants</th>\n",
       "      <th>income</th>\n",
       "      <th>region</th>\n",
       "      <th>exclusion_flag</th>\n",
       "    </tr>\n",
       "  </thead>\n",
       "  <tbody>\n",
       "    <tr>\n",
       "      <th>0</th>\n",
       "      <td>19</td>\n",
       "      <td>5.8</td>\n",
       "      <td>138</td>\n",
       "      <td>28</td>\n",
       "      <td>Minnesota</td>\n",
       "      <td>81</td>\n",
       "      <td>1</td>\n",
       "      <td>49620</td>\n",
       "      <td>Region 2 (Midwest)</td>\n",
       "      <td>high_activity_customer</td>\n",
       "    </tr>\n",
       "    <tr>\n",
       "      <th>1</th>\n",
       "      <td>19</td>\n",
       "      <td>5.8</td>\n",
       "      <td>138</td>\n",
       "      <td>30</td>\n",
       "      <td>Minnesota</td>\n",
       "      <td>81</td>\n",
       "      <td>1</td>\n",
       "      <td>49620</td>\n",
       "      <td>Region 2 (Midwest)</td>\n",
       "      <td>high_activity_customer</td>\n",
       "    </tr>\n",
       "    <tr>\n",
       "      <th>2</th>\n",
       "      <td>12</td>\n",
       "      <td>20.0</td>\n",
       "      <td>138</td>\n",
       "      <td>1</td>\n",
       "      <td>Minnesota</td>\n",
       "      <td>81</td>\n",
       "      <td>1</td>\n",
       "      <td>49620</td>\n",
       "      <td>Region 2 (Midwest)</td>\n",
       "      <td>low_activity_customer</td>\n",
       "    </tr>\n",
       "    <tr>\n",
       "      <th>3</th>\n",
       "      <td>12</td>\n",
       "      <td>20.0</td>\n",
       "      <td>138</td>\n",
       "      <td>10</td>\n",
       "      <td>Minnesota</td>\n",
       "      <td>81</td>\n",
       "      <td>1</td>\n",
       "      <td>49620</td>\n",
       "      <td>Region 2 (Midwest)</td>\n",
       "      <td>high_activity_customer</td>\n",
       "    </tr>\n",
       "    <tr>\n",
       "      <th>4</th>\n",
       "      <td>10</td>\n",
       "      <td>12.9</td>\n",
       "      <td>138</td>\n",
       "      <td>9</td>\n",
       "      <td>Minnesota</td>\n",
       "      <td>81</td>\n",
       "      <td>1</td>\n",
       "      <td>49620</td>\n",
       "      <td>Region 2 (Midwest)</td>\n",
       "      <td>high_activity_customer</td>\n",
       "    </tr>\n",
       "  </tbody>\n",
       "</table>\n",
       "</div>"
      ],
      "text/plain": [
       "   department_id  prices  user_id  order_number      state  age  n_dependants  \\\n",
       "0             19     5.8      138            28  Minnesota   81             1   \n",
       "1             19     5.8      138            30  Minnesota   81             1   \n",
       "2             12    20.0      138             1  Minnesota   81             1   \n",
       "3             12    20.0      138            10  Minnesota   81             1   \n",
       "4             10    12.9      138             9  Minnesota   81             1   \n",
       "\n",
       "   income              region          exclusion_flag  \n",
       "0   49620  Region 2 (Midwest)  high_activity_customer  \n",
       "1   49620  Region 2 (Midwest)  high_activity_customer  \n",
       "2   49620  Region 2 (Midwest)   low_activity_customer  \n",
       "3   49620  Region 2 (Midwest)  high_activity_customer  \n",
       "4   49620  Region 2 (Midwest)  high_activity_customer  "
      ]
     },
     "execution_count": 21,
     "metadata": {},
     "output_type": "execute_result"
    }
   ],
   "source": [
    "ords_prods_cust.head()"
   ]
  },
  {
   "cell_type": "code",
   "execution_count": 23,
   "id": "b2c19e7f",
   "metadata": {
    "scrolled": true
   },
   "outputs": [
    {
     "data": {
      "text/plain": [
       "high_activity_customer    22787976\n",
       "low_activity_customer      9616883\n",
       "Name: exclusion_flag, dtype: int64"
      ]
     },
     "execution_count": 23,
     "metadata": {},
     "output_type": "execute_result"
    }
   ],
   "source": [
    "ords_prods_cust['exclusion_flag'].value_counts()"
   ]
  },
  {
   "cell_type": "code",
   "execution_count": 11,
   "id": "9dde654e",
   "metadata": {},
   "outputs": [
    {
     "data": {
      "text/plain": [
       "(22784558, 16)"
      ]
     },
     "execution_count": 11,
     "metadata": {},
     "output_type": "execute_result"
    }
   ],
   "source": [
    "ords_prods_cust.shape"
   ]
  },
  {
   "cell_type": "code",
   "execution_count": 34,
   "id": "99851c9e",
   "metadata": {},
   "outputs": [],
   "source": [
    "# performing crosstab for check of assignment errors\n",
    "crosstab_task4 = pd.crosstab(ords_prods_cust['order_number'], ords_prods_cust['exclusion_flag'], dropna = False)"
   ]
  },
  {
   "cell_type": "code",
   "execution_count": 32,
   "id": "96fab36a",
   "metadata": {},
   "outputs": [],
   "source": [
    "# copy the table straight to your clipboard, allowing you to then paste it into Excel for easy viewing. \n",
    "crosstab_task4.to_clipboard()"
   ]
  },
  {
   "cell_type": "code",
   "execution_count": 12,
   "id": "51b8cbba",
   "metadata": {},
   "outputs": [],
   "source": [
    "# Crosstab checks were fine, version low performing customers will now be removed.\n",
    "ords_prods_cust = ords_prods_cust[ords_prods_cust.exclusion_flag != 'low_activity_customer']"
   ]
  },
  {
   "cell_type": "code",
   "execution_count": 32,
   "id": "f5f2ac7e",
   "metadata": {
    "scrolled": true
   },
   "outputs": [
    {
     "data": {
      "text/plain": [
       "high_activity_customer    22787976\n",
       "Name: exclusion_flag, dtype: int64"
      ]
     },
     "execution_count": 32,
     "metadata": {},
     "output_type": "execute_result"
    }
   ],
   "source": [
    "# Check if deletion was successful\n",
    "ords_prods_cust['exclusion_flag'].value_counts()"
   ]
  },
  {
   "cell_type": "code",
   "execution_count": 30,
   "id": "58ca1738",
   "metadata": {},
   "outputs": [],
   "source": [
    "# Data Export: \n",
    "ords_prods_cust.to_pickle(os.path.join(path, '02_data','prepared_data', '4.10_task4.pkl'))"
   ]
  },
  {
   "cell_type": "markdown",
   "id": "3dfe5e3b",
   "metadata": {},
   "source": [
    "### 5. Create a profiling variable based on age, income, certain goods in the “department_id” column, and number of dependents"
   ]
  },
  {
   "cell_type": "markdown",
   "id": "c330711d",
   "metadata": {},
   "source": [
    "The marketing and business strategy units at Instacart want to create more-relevant marketing strategies for different products and are, thus, curious about customer profiling in their database. Create a profiling variable based on age, income, certain goods in the “department_id” column, and number of dependents. You might also use the “orders_day_of_the_week” and “order_hour_of_day” columns if you can think of a way they would impact customer profiles. (Hint: As an example, try thinking of what characteristics would lead you to the profile “Single adult” or “Young parent.”)"
   ]
  },
  {
   "cell_type": "code",
   "execution_count": 5,
   "id": "20f6b8a9",
   "metadata": {},
   "outputs": [],
   "source": [
    "# importing the departments df to revise its content\n",
    "ords_prods_cust = pd.read_pickle(os.path.join(path, '02_Data', 'prepared_data', '4.10_task4.pkl'))"
   ]
  },
  {
   "cell_type": "code",
   "execution_count": 83,
   "id": "7e10636e",
   "metadata": {},
   "outputs": [],
   "source": [
    "# importing the departments df to revise its content\n",
    "df_departments = pd.read_csv(os.path.join(path, '02_Data', 'prepared_data', 'departments_wrangled.csv'), usecols = all)"
   ]
  },
  {
   "cell_type": "code",
   "execution_count": 35,
   "id": "507ed542",
   "metadata": {
    "scrolled": true
   },
   "outputs": [
    {
     "data": {
      "text/html": [
       "<div>\n",
       "<style scoped>\n",
       "    .dataframe tbody tr th:only-of-type {\n",
       "        vertical-align: middle;\n",
       "    }\n",
       "\n",
       "    .dataframe tbody tr th {\n",
       "        vertical-align: top;\n",
       "    }\n",
       "\n",
       "    .dataframe thead th {\n",
       "        text-align: right;\n",
       "    }\n",
       "</style>\n",
       "<table border=\"1\" class=\"dataframe\">\n",
       "  <thead>\n",
       "    <tr style=\"text-align: right;\">\n",
       "      <th></th>\n",
       "      <th>Unnamed: 0</th>\n",
       "      <th>department</th>\n",
       "    </tr>\n",
       "  </thead>\n",
       "  <tbody>\n",
       "    <tr>\n",
       "      <th>0</th>\n",
       "      <td>1</td>\n",
       "      <td>frozen</td>\n",
       "    </tr>\n",
       "    <tr>\n",
       "      <th>1</th>\n",
       "      <td>2</td>\n",
       "      <td>other</td>\n",
       "    </tr>\n",
       "    <tr>\n",
       "      <th>2</th>\n",
       "      <td>3</td>\n",
       "      <td>bakery</td>\n",
       "    </tr>\n",
       "    <tr>\n",
       "      <th>3</th>\n",
       "      <td>4</td>\n",
       "      <td>produce</td>\n",
       "    </tr>\n",
       "    <tr>\n",
       "      <th>4</th>\n",
       "      <td>5</td>\n",
       "      <td>alcohol</td>\n",
       "    </tr>\n",
       "    <tr>\n",
       "      <th>5</th>\n",
       "      <td>6</td>\n",
       "      <td>international</td>\n",
       "    </tr>\n",
       "    <tr>\n",
       "      <th>6</th>\n",
       "      <td>7</td>\n",
       "      <td>beverages</td>\n",
       "    </tr>\n",
       "    <tr>\n",
       "      <th>7</th>\n",
       "      <td>8</td>\n",
       "      <td>pets</td>\n",
       "    </tr>\n",
       "    <tr>\n",
       "      <th>8</th>\n",
       "      <td>9</td>\n",
       "      <td>dry goods pasta</td>\n",
       "    </tr>\n",
       "    <tr>\n",
       "      <th>9</th>\n",
       "      <td>10</td>\n",
       "      <td>bulk</td>\n",
       "    </tr>\n",
       "    <tr>\n",
       "      <th>10</th>\n",
       "      <td>11</td>\n",
       "      <td>personal care</td>\n",
       "    </tr>\n",
       "    <tr>\n",
       "      <th>11</th>\n",
       "      <td>12</td>\n",
       "      <td>meat seafood</td>\n",
       "    </tr>\n",
       "    <tr>\n",
       "      <th>12</th>\n",
       "      <td>13</td>\n",
       "      <td>pantry</td>\n",
       "    </tr>\n",
       "    <tr>\n",
       "      <th>13</th>\n",
       "      <td>14</td>\n",
       "      <td>breakfast</td>\n",
       "    </tr>\n",
       "    <tr>\n",
       "      <th>14</th>\n",
       "      <td>15</td>\n",
       "      <td>canned goods</td>\n",
       "    </tr>\n",
       "    <tr>\n",
       "      <th>15</th>\n",
       "      <td>16</td>\n",
       "      <td>dairy eggs</td>\n",
       "    </tr>\n",
       "    <tr>\n",
       "      <th>16</th>\n",
       "      <td>17</td>\n",
       "      <td>household</td>\n",
       "    </tr>\n",
       "    <tr>\n",
       "      <th>17</th>\n",
       "      <td>18</td>\n",
       "      <td>babies</td>\n",
       "    </tr>\n",
       "    <tr>\n",
       "      <th>18</th>\n",
       "      <td>19</td>\n",
       "      <td>snacks</td>\n",
       "    </tr>\n",
       "    <tr>\n",
       "      <th>19</th>\n",
       "      <td>20</td>\n",
       "      <td>deli</td>\n",
       "    </tr>\n",
       "    <tr>\n",
       "      <th>20</th>\n",
       "      <td>21</td>\n",
       "      <td>missing</td>\n",
       "    </tr>\n",
       "  </tbody>\n",
       "</table>\n",
       "</div>"
      ],
      "text/plain": [
       "    Unnamed: 0       department\n",
       "0            1           frozen\n",
       "1            2            other\n",
       "2            3           bakery\n",
       "3            4          produce\n",
       "4            5          alcohol\n",
       "5            6    international\n",
       "6            7        beverages\n",
       "7            8             pets\n",
       "8            9  dry goods pasta\n",
       "9           10             bulk\n",
       "10          11    personal care\n",
       "11          12     meat seafood\n",
       "12          13           pantry\n",
       "13          14        breakfast\n",
       "14          15     canned goods\n",
       "15          16       dairy eggs\n",
       "16          17        household\n",
       "17          18           babies\n",
       "18          19           snacks\n",
       "19          20             deli\n",
       "20          21          missing"
      ]
     },
     "execution_count": 35,
     "metadata": {},
     "output_type": "execute_result"
    }
   ],
   "source": [
    "df_departments.head(30)"
   ]
  },
  {
   "cell_type": "code",
   "execution_count": 37,
   "id": "62fef5be",
   "metadata": {},
   "outputs": [
    {
     "data": {
      "text/html": [
       "<div>\n",
       "<style scoped>\n",
       "    .dataframe tbody tr th:only-of-type {\n",
       "        vertical-align: middle;\n",
       "    }\n",
       "\n",
       "    .dataframe tbody tr th {\n",
       "        vertical-align: top;\n",
       "    }\n",
       "\n",
       "    .dataframe thead th {\n",
       "        text-align: right;\n",
       "    }\n",
       "</style>\n",
       "<table border=\"1\" class=\"dataframe\">\n",
       "  <thead>\n",
       "    <tr style=\"text-align: right;\">\n",
       "      <th></th>\n",
       "      <th>department_id</th>\n",
       "      <th>prices</th>\n",
       "      <th>user_id</th>\n",
       "      <th>order_number</th>\n",
       "      <th>state</th>\n",
       "      <th>age</th>\n",
       "      <th>n_dependants</th>\n",
       "      <th>income</th>\n",
       "      <th>region</th>\n",
       "      <th>exclusion_flag</th>\n",
       "    </tr>\n",
       "  </thead>\n",
       "  <tbody>\n",
       "    <tr>\n",
       "      <th>0</th>\n",
       "      <td>19</td>\n",
       "      <td>5.8</td>\n",
       "      <td>138</td>\n",
       "      <td>28</td>\n",
       "      <td>Minnesota</td>\n",
       "      <td>81</td>\n",
       "      <td>1</td>\n",
       "      <td>49620</td>\n",
       "      <td>Region 2 (Midwest)</td>\n",
       "      <td>high_activity_customer</td>\n",
       "    </tr>\n",
       "    <tr>\n",
       "      <th>1</th>\n",
       "      <td>19</td>\n",
       "      <td>5.8</td>\n",
       "      <td>138</td>\n",
       "      <td>30</td>\n",
       "      <td>Minnesota</td>\n",
       "      <td>81</td>\n",
       "      <td>1</td>\n",
       "      <td>49620</td>\n",
       "      <td>Region 2 (Midwest)</td>\n",
       "      <td>high_activity_customer</td>\n",
       "    </tr>\n",
       "    <tr>\n",
       "      <th>3</th>\n",
       "      <td>12</td>\n",
       "      <td>20.0</td>\n",
       "      <td>138</td>\n",
       "      <td>10</td>\n",
       "      <td>Minnesota</td>\n",
       "      <td>81</td>\n",
       "      <td>1</td>\n",
       "      <td>49620</td>\n",
       "      <td>Region 2 (Midwest)</td>\n",
       "      <td>high_activity_customer</td>\n",
       "    </tr>\n",
       "    <tr>\n",
       "      <th>4</th>\n",
       "      <td>10</td>\n",
       "      <td>12.9</td>\n",
       "      <td>138</td>\n",
       "      <td>9</td>\n",
       "      <td>Minnesota</td>\n",
       "      <td>81</td>\n",
       "      <td>1</td>\n",
       "      <td>49620</td>\n",
       "      <td>Region 2 (Midwest)</td>\n",
       "      <td>high_activity_customer</td>\n",
       "    </tr>\n",
       "    <tr>\n",
       "      <th>5</th>\n",
       "      <td>4</td>\n",
       "      <td>1.7</td>\n",
       "      <td>138</td>\n",
       "      <td>17</td>\n",
       "      <td>Minnesota</td>\n",
       "      <td>81</td>\n",
       "      <td>1</td>\n",
       "      <td>49620</td>\n",
       "      <td>Region 2 (Midwest)</td>\n",
       "      <td>high_activity_customer</td>\n",
       "    </tr>\n",
       "  </tbody>\n",
       "</table>\n",
       "</div>"
      ],
      "text/plain": [
       "   department_id  prices  user_id  order_number      state  age  n_dependants  \\\n",
       "0             19     5.8      138            28  Minnesota   81             1   \n",
       "1             19     5.8      138            30  Minnesota   81             1   \n",
       "3             12    20.0      138            10  Minnesota   81             1   \n",
       "4             10    12.9      138             9  Minnesota   81             1   \n",
       "5              4     1.7      138            17  Minnesota   81             1   \n",
       "\n",
       "   income              region          exclusion_flag  \n",
       "0   49620  Region 2 (Midwest)  high_activity_customer  \n",
       "1   49620  Region 2 (Midwest)  high_activity_customer  \n",
       "3   49620  Region 2 (Midwest)  high_activity_customer  \n",
       "4   49620  Region 2 (Midwest)  high_activity_customer  \n",
       "5   49620  Region 2 (Midwest)  high_activity_customer  "
      ]
     },
     "execution_count": 37,
     "metadata": {},
     "output_type": "execute_result"
    }
   ],
   "source": [
    "ords_prods_cust.head()"
   ]
  },
  {
   "cell_type": "markdown",
   "id": "75921b1c",
   "metadata": {},
   "source": [
    "### Age Profiles:"
   ]
  },
  {
   "cell_type": "code",
   "execution_count": 7,
   "id": "13ec6ad1",
   "metadata": {
    "scrolled": true
   },
   "outputs": [
    {
     "data": {
      "text/plain": [
       "count    2.278798e+07\n",
       "mean     4.945714e+01\n",
       "std      1.848502e+01\n",
       "min      1.800000e+01\n",
       "25%      3.300000e+01\n",
       "50%      4.900000e+01\n",
       "75%      6.500000e+01\n",
       "max      8.100000e+01\n",
       "Name: age, dtype: float64"
      ]
     },
     "execution_count": 7,
     "metadata": {},
     "output_type": "execute_result"
    }
   ],
   "source": [
    "ords_prods_cust['age'].describe()"
   ]
  },
  {
   "cell_type": "markdown",
   "id": "78447396",
   "metadata": {},
   "source": [
    "#### Based on descriptive analysis, the following age profiles will be defined\n",
    "Young: 18 - 33 years\n",
    "\n",
    "Mid-age: 34 - 49 years\n",
    "\n",
    "Seniors: 50 - 81 years"
   ]
  },
  {
   "cell_type": "code",
   "execution_count": 13,
   "id": "ca9a604a",
   "metadata": {},
   "outputs": [],
   "source": [
    "# creating the age profiles:\n",
    "# old: older than 40 years\n",
    "# young: 40 years or younger\n",
    "\n",
    "result_task5_age = []\n",
    "\n",
    "for value in ords_prods_cust[\"age\"]:\n",
    "    if value <= 33:\n",
    "        result_task5_age.append('young')\n",
    "    elif value <= 49 and value > 33:\n",
    "        result_task5_age.append('mid-age')\n",
    "    else: \n",
    "        result_task5_age.append('senior')"
   ]
  },
  {
   "cell_type": "markdown",
   "id": "7288e301",
   "metadata": {},
   "source": [
    "### Wealth Profiles"
   ]
  },
  {
   "cell_type": "code",
   "execution_count": 11,
   "id": "7f7f1840",
   "metadata": {},
   "outputs": [
    {
     "data": {
      "text/plain": [
       "count    2.278798e+07\n",
       "mean     9.997077e+04\n",
       "std      4.339599e+04\n",
       "min      2.590300e+04\n",
       "25%      6.763100e+04\n",
       "50%      9.686300e+04\n",
       "75%      1.281820e+05\n",
       "max      5.939010e+05\n",
       "Name: income, dtype: float64"
      ]
     },
     "execution_count": 11,
     "metadata": {},
     "output_type": "execute_result"
    }
   ],
   "source": [
    "ords_prods_cust['income'].describe()"
   ]
  },
  {
   "cell_type": "code",
   "execution_count": 16,
   "id": "3b76f1eb",
   "metadata": {},
   "outputs": [],
   "source": [
    "# creating the income profiles:\n",
    "\n",
    "result_task5_wealth = []\n",
    "\n",
    "for value in ords_prods_cust[\"income\"]:\n",
    "    if value <= 50000:\n",
    "        result_task5_wealth.append('low')\n",
    "    elif value > 50000 and value <= 100000:\n",
    "        result_task5_wealth.append('middle')\n",
    "    else: \n",
    "        result_task5_wealth.append('high')"
   ]
  },
  {
   "cell_type": "markdown",
   "id": "6158dbd2",
   "metadata": {},
   "source": [
    "### Family status profiles"
   ]
  },
  {
   "cell_type": "code",
   "execution_count": 20,
   "id": "c696469e",
   "metadata": {},
   "outputs": [],
   "source": [
    "# creating the family_status profiles:\n",
    "\n",
    "result_task5_family_status = []\n",
    "\n",
    "for value in ords_prods_cust[\"n_dependants\"]:\n",
    "    if value<= 0:\n",
    "        result_task5_family_status.append('single_adult')\n",
    "    else: \n",
    "        result_task5_family_status.append('parent')"
   ]
  },
  {
   "cell_type": "markdown",
   "id": "9d1e623b",
   "metadata": {},
   "source": [
    "### Pet owner profiles:"
   ]
  },
  {
   "cell_type": "code",
   "execution_count": 24,
   "id": "53de6a29",
   "metadata": {},
   "outputs": [],
   "source": [
    "# creating the pet owner profiles:\n",
    "\n",
    "result_task5_pet_owner_status = []\n",
    "\n",
    "for value in ords_prods_cust[\"department_id\"]:\n",
    "    if value == 8:\n",
    "        result_task5_pet_owner_status.append('pet_owner')\n",
    "    else: \n",
    "        result_task5_pet_owner_status.append('no_pet_owner')"
   ]
  },
  {
   "cell_type": "markdown",
   "id": "333d92eb",
   "metadata": {},
   "source": [
    "### Vegetarian profiles:"
   ]
  },
  {
   "cell_type": "code",
   "execution_count": 26,
   "id": "6f95f40f",
   "metadata": {},
   "outputs": [],
   "source": [
    "# creating the pet owner profiles:\n",
    "\n",
    "result_task5_veggy_status = []\n",
    "\n",
    "for value in ords_prods_cust[\"department_id\"]:\n",
    "    if value == 12:\n",
    "        result_task5_veggy_status.append('no vegetarian')\n",
    "    else: \n",
    "        result_task5_veggy_status.append('vegetarian')"
   ]
  },
  {
   "cell_type": "markdown",
   "id": "4e52920a",
   "metadata": {},
   "source": [
    "### Alcohol drinker profiles"
   ]
  },
  {
   "cell_type": "code",
   "execution_count": 27,
   "id": "d7cfb820",
   "metadata": {},
   "outputs": [],
   "source": [
    "# creating the pet owner profiles:\n",
    "\n",
    "result_task5_alc_status = []\n",
    "\n",
    "for value in ords_prods_cust[\"department_id\"]:\n",
    "    if value == 5:\n",
    "        result_task5_alc_status.append('alcohol drinker')\n",
    "    else: \n",
    "        result_task5_alc_status.append('no alcohol drinker')"
   ]
  },
  {
   "cell_type": "code",
   "execution_count": 28,
   "id": "8d3c849b",
   "metadata": {},
   "outputs": [],
   "source": [
    "# create new columns and assign the result - list\n",
    "ords_prods_cust['age_profile'] = result_task5_age\n",
    "ords_prods_cust['wealth_profile'] = result_task5_wealth\n",
    "ords_prods_cust['family_status_profile'] = result_task5_family_status\n",
    "ords_prods_cust['pet_owner_profile'] = result_task5_pet_owner_status\n",
    "ords_prods_cust['veggy_profile'] = result_task5_veggy_status\n",
    "ords_prods_cust['alcohol_profile'] = result_task5_alc_status"
   ]
  },
  {
   "cell_type": "code",
   "execution_count": 29,
   "id": "56722e80",
   "metadata": {
    "scrolled": true
   },
   "outputs": [
    {
     "data": {
      "text/html": [
       "<div>\n",
       "<style scoped>\n",
       "    .dataframe tbody tr th:only-of-type {\n",
       "        vertical-align: middle;\n",
       "    }\n",
       "\n",
       "    .dataframe tbody tr th {\n",
       "        vertical-align: top;\n",
       "    }\n",
       "\n",
       "    .dataframe thead th {\n",
       "        text-align: right;\n",
       "    }\n",
       "</style>\n",
       "<table border=\"1\" class=\"dataframe\">\n",
       "  <thead>\n",
       "    <tr style=\"text-align: right;\">\n",
       "      <th></th>\n",
       "      <th>department_id</th>\n",
       "      <th>prices</th>\n",
       "      <th>user_id</th>\n",
       "      <th>order_number</th>\n",
       "      <th>state</th>\n",
       "      <th>age</th>\n",
       "      <th>n_dependants</th>\n",
       "      <th>income</th>\n",
       "      <th>region</th>\n",
       "      <th>exclusion_flag</th>\n",
       "      <th>age_profile</th>\n",
       "      <th>wealth_profile</th>\n",
       "      <th>family_status_profile</th>\n",
       "      <th>pet_owner_profile</th>\n",
       "      <th>veggy_profile</th>\n",
       "      <th>alcohol_profile</th>\n",
       "    </tr>\n",
       "  </thead>\n",
       "  <tbody>\n",
       "    <tr>\n",
       "      <th>0</th>\n",
       "      <td>19</td>\n",
       "      <td>5.8</td>\n",
       "      <td>138</td>\n",
       "      <td>28</td>\n",
       "      <td>Minnesota</td>\n",
       "      <td>81</td>\n",
       "      <td>1</td>\n",
       "      <td>49620</td>\n",
       "      <td>Region 2 (Midwest)</td>\n",
       "      <td>high_activity_customer</td>\n",
       "      <td>senior</td>\n",
       "      <td>low</td>\n",
       "      <td>parent</td>\n",
       "      <td>no_pet_owner</td>\n",
       "      <td>vegetarian</td>\n",
       "      <td>no alcohol drinker</td>\n",
       "    </tr>\n",
       "    <tr>\n",
       "      <th>1</th>\n",
       "      <td>19</td>\n",
       "      <td>5.8</td>\n",
       "      <td>138</td>\n",
       "      <td>30</td>\n",
       "      <td>Minnesota</td>\n",
       "      <td>81</td>\n",
       "      <td>1</td>\n",
       "      <td>49620</td>\n",
       "      <td>Region 2 (Midwest)</td>\n",
       "      <td>high_activity_customer</td>\n",
       "      <td>senior</td>\n",
       "      <td>low</td>\n",
       "      <td>parent</td>\n",
       "      <td>no_pet_owner</td>\n",
       "      <td>vegetarian</td>\n",
       "      <td>no alcohol drinker</td>\n",
       "    </tr>\n",
       "    <tr>\n",
       "      <th>3</th>\n",
       "      <td>12</td>\n",
       "      <td>20.0</td>\n",
       "      <td>138</td>\n",
       "      <td>10</td>\n",
       "      <td>Minnesota</td>\n",
       "      <td>81</td>\n",
       "      <td>1</td>\n",
       "      <td>49620</td>\n",
       "      <td>Region 2 (Midwest)</td>\n",
       "      <td>high_activity_customer</td>\n",
       "      <td>senior</td>\n",
       "      <td>low</td>\n",
       "      <td>parent</td>\n",
       "      <td>no_pet_owner</td>\n",
       "      <td>no vegetarian</td>\n",
       "      <td>no alcohol drinker</td>\n",
       "    </tr>\n",
       "    <tr>\n",
       "      <th>4</th>\n",
       "      <td>10</td>\n",
       "      <td>12.9</td>\n",
       "      <td>138</td>\n",
       "      <td>9</td>\n",
       "      <td>Minnesota</td>\n",
       "      <td>81</td>\n",
       "      <td>1</td>\n",
       "      <td>49620</td>\n",
       "      <td>Region 2 (Midwest)</td>\n",
       "      <td>high_activity_customer</td>\n",
       "      <td>senior</td>\n",
       "      <td>low</td>\n",
       "      <td>parent</td>\n",
       "      <td>no_pet_owner</td>\n",
       "      <td>vegetarian</td>\n",
       "      <td>no alcohol drinker</td>\n",
       "    </tr>\n",
       "    <tr>\n",
       "      <th>5</th>\n",
       "      <td>4</td>\n",
       "      <td>1.7</td>\n",
       "      <td>138</td>\n",
       "      <td>17</td>\n",
       "      <td>Minnesota</td>\n",
       "      <td>81</td>\n",
       "      <td>1</td>\n",
       "      <td>49620</td>\n",
       "      <td>Region 2 (Midwest)</td>\n",
       "      <td>high_activity_customer</td>\n",
       "      <td>senior</td>\n",
       "      <td>low</td>\n",
       "      <td>parent</td>\n",
       "      <td>no_pet_owner</td>\n",
       "      <td>vegetarian</td>\n",
       "      <td>no alcohol drinker</td>\n",
       "    </tr>\n",
       "  </tbody>\n",
       "</table>\n",
       "</div>"
      ],
      "text/plain": [
       "   department_id  prices  user_id  order_number      state  age  n_dependants  \\\n",
       "0             19     5.8      138            28  Minnesota   81             1   \n",
       "1             19     5.8      138            30  Minnesota   81             1   \n",
       "3             12    20.0      138            10  Minnesota   81             1   \n",
       "4             10    12.9      138             9  Minnesota   81             1   \n",
       "5              4     1.7      138            17  Minnesota   81             1   \n",
       "\n",
       "   income              region          exclusion_flag age_profile  \\\n",
       "0   49620  Region 2 (Midwest)  high_activity_customer      senior   \n",
       "1   49620  Region 2 (Midwest)  high_activity_customer      senior   \n",
       "3   49620  Region 2 (Midwest)  high_activity_customer      senior   \n",
       "4   49620  Region 2 (Midwest)  high_activity_customer      senior   \n",
       "5   49620  Region 2 (Midwest)  high_activity_customer      senior   \n",
       "\n",
       "  wealth_profile family_status_profile pet_owner_profile  veggy_profile  \\\n",
       "0            low                parent      no_pet_owner     vegetarian   \n",
       "1            low                parent      no_pet_owner     vegetarian   \n",
       "3            low                parent      no_pet_owner  no vegetarian   \n",
       "4            low                parent      no_pet_owner     vegetarian   \n",
       "5            low                parent      no_pet_owner     vegetarian   \n",
       "\n",
       "      alcohol_profile  \n",
       "0  no alcohol drinker  \n",
       "1  no alcohol drinker  \n",
       "3  no alcohol drinker  \n",
       "4  no alcohol drinker  \n",
       "5  no alcohol drinker  "
      ]
     },
     "execution_count": 29,
     "metadata": {},
     "output_type": "execute_result"
    }
   ],
   "source": [
    "ords_prods_cust.head()"
   ]
  },
  {
   "cell_type": "code",
   "execution_count": 30,
   "id": "92badb99",
   "metadata": {},
   "outputs": [],
   "source": [
    "# Data Export: \n",
    "ords_prods_cust.to_pickle(os.path.join(path, '02_data','prepared_data', '4.10_task5.pkl'))"
   ]
  },
  {
   "cell_type": "markdown",
   "id": "dcd0cd97",
   "metadata": {},
   "source": [
    "### 6. Create an appropriate visualization to show the distribution of profiles."
   ]
  },
  {
   "cell_type": "code",
   "execution_count": 41,
   "id": "435ace56",
   "metadata": {},
   "outputs": [],
   "source": [
    "ords_prods_cust = pd.read_pickle(os.path.join(path, '02_Data', 'prepared_data', '4.10_task5.pkl'))"
   ]
  },
  {
   "cell_type": "markdown",
   "id": "0c99c428",
   "metadata": {},
   "source": [
    "Age Group Distribution"
   ]
  },
  {
   "cell_type": "code",
   "execution_count": 31,
   "id": "4db883d6",
   "metadata": {
    "scrolled": true
   },
   "outputs": [
    {
     "data": {
      "image/png": "[encoded data removed]",
      "text/plain": [
       "<Figure size 640x480 with 1 Axes>"
      ]
     },
     "metadata": {},
     "output_type": "display_data"
    }
   ],
   "source": [
    "age_bar = ords_prods_cust['age_profile'].value_counts().sort_index().plot.bar(color=['blue'])"
   ]
  },
  {
   "cell_type": "markdown",
   "id": "eea8c43f",
   "metadata": {},
   "source": [
    "Alcohol Drinkers Distribution"
   ]
  },
  {
   "cell_type": "code",
   "execution_count": 52,
   "id": "46728add",
   "metadata": {
    "scrolled": true
   },
   "outputs": [
    {
     "data": {
      "image/png": "[encoded data removed]",
      "text/plain": [
       "<Figure size 640x480 with 1 Axes>"
      ]
     },
     "metadata": {},
     "output_type": "display_data"
    }
   ],
   "source": [
    "alcohol_profile = ords_prods_cust['alcohol_profile'].value_counts().plot.pie(labels = ['drinkers','no drinkers'], label = '')"
   ]
  },
  {
   "cell_type": "markdown",
   "id": "54bfd6d2",
   "metadata": {},
   "source": [
    "Pet Owners Distribution"
   ]
  },
  {
   "cell_type": "code",
   "execution_count": 74,
   "id": "d88ca0fe",
   "metadata": {},
   "outputs": [
    {
     "data": {
      "image/png": "[encoded data removed]",
      "text/plain": [
       "<Figure size 640x480 with 1 Axes>"
      ]
     },
     "metadata": {},
     "output_type": "display_data"
    }
   ],
   "source": [
    "pet_owner_profile = ords_prods_cust['pet_owner_profile'].value_counts().plot.pie(labels = ['no owner','owner'], label = '')"
   ]
  },
  {
   "cell_type": "markdown",
   "id": "25fdeee5",
   "metadata": {},
   "source": [
    "Customers Wealth Status"
   ]
  },
  {
   "cell_type": "code",
   "execution_count": 53,
   "id": "eeca7db2",
   "metadata": {
    "scrolled": true
   },
   "outputs": [
    {
     "data": {
      "image/png": "[encoded data removed]",
      "text/plain": [
       "<Figure size 640x480 with 1 Axes>"
      ]
     },
     "metadata": {},
     "output_type": "display_data"
    }
   ],
   "source": [
    "wealth_profile_bar = ords_prods_cust['wealth_profile'].value_counts().sort_index().plot.bar(color=['blue'])"
   ]
  },
  {
   "cell_type": "markdown",
   "id": "59a6de26",
   "metadata": {},
   "source": [
    "Customers Marital Status"
   ]
  },
  {
   "cell_type": "code",
   "execution_count": 54,
   "id": "425b3e2f",
   "metadata": {},
   "outputs": [
    {
     "data": {
      "image/png": "[encoded data removed]",
      "text/plain": [
       "<Figure size 640x480 with 1 Axes>"
      ]
     },
     "metadata": {},
     "output_type": "display_data"
    }
   ],
   "source": [
    "family_status_pie = ords_prods_cust['family_status_profile'].value_counts().plot.pie(labels = ['parent','single'], label = '')"
   ]
  },
  {
   "cell_type": "markdown",
   "id": "c139b2d2",
   "metadata": {},
   "source": [
    "Customers Nutrition Status"
   ]
  },
  {
   "cell_type": "code",
   "execution_count": 111,
   "id": "90df152e",
   "metadata": {},
   "outputs": [
    {
     "data": {
      "image/png": "[encoded data removed]",
      "text/plain": [
       "<Figure size 640x480 with 1 Axes>"
      ]
     },
     "metadata": {},
     "output_type": "display_data"
    }
   ],
   "source": [
    "veggie_profile_pie = ords_prods_cust['veggy_profile'].value_counts().plot.pie(labels = ['vegetarian','non-vegetarian'], label = '')"
   ]
  },
  {
   "cell_type": "markdown",
   "id": "382c968b",
   "metadata": {},
   "source": [
    "### 7. Aggregate the max, mean, and min variables on a customer-profile level for usage frequency and expenditure."
   ]
  },
  {
   "cell_type": "code",
   "execution_count": 57,
   "id": "bcd9b52e",
   "metadata": {
    "scrolled": true
   },
   "outputs": [
    {
     "data": {
      "text/html": [
       "<div>\n",
       "<style scoped>\n",
       "    .dataframe tbody tr th:only-of-type {\n",
       "        vertical-align: middle;\n",
       "    }\n",
       "\n",
       "    .dataframe tbody tr th {\n",
       "        vertical-align: top;\n",
       "    }\n",
       "\n",
       "    .dataframe thead tr th {\n",
       "        text-align: left;\n",
       "    }\n",
       "\n",
       "    .dataframe thead tr:last-of-type th {\n",
       "        text-align: right;\n",
       "    }\n",
       "</style>\n",
       "<table border=\"1\" class=\"dataframe\">\n",
       "  <thead>\n",
       "    <tr>\n",
       "      <th></th>\n",
       "      <th colspan=\"3\" halign=\"left\">prices</th>\n",
       "    </tr>\n",
       "    <tr>\n",
       "      <th></th>\n",
       "      <th>min</th>\n",
       "      <th>max</th>\n",
       "      <th>mean</th>\n",
       "    </tr>\n",
       "    <tr>\n",
       "      <th>age_profile</th>\n",
       "      <th></th>\n",
       "      <th></th>\n",
       "      <th></th>\n",
       "    </tr>\n",
       "  </thead>\n",
       "  <tbody>\n",
       "    <tr>\n",
       "      <th>mid-age</th>\n",
       "      <td>1.0</td>\n",
       "      <td>inf</td>\n",
       "      <td>NaN</td>\n",
       "    </tr>\n",
       "    <tr>\n",
       "      <th>senior</th>\n",
       "      <td>1.0</td>\n",
       "      <td>inf</td>\n",
       "      <td>NaN</td>\n",
       "    </tr>\n",
       "    <tr>\n",
       "      <th>young</th>\n",
       "      <td>1.0</td>\n",
       "      <td>inf</td>\n",
       "      <td>NaN</td>\n",
       "    </tr>\n",
       "  </tbody>\n",
       "</table>\n",
       "</div>"
      ],
      "text/plain": [
       "            prices          \n",
       "               min  max mean\n",
       "age_profile                 \n",
       "mid-age        1.0  inf  NaN\n",
       "senior         1.0  inf  NaN\n",
       "young          1.0  inf  NaN"
      ]
     },
     "execution_count": 57,
     "metadata": {},
     "output_type": "execute_result"
    }
   ],
   "source": [
    "# Overview of expenditure leads to fishy max and mean values\n",
    "\n",
    "ords_prods_cust.groupby('age_profile').agg({'prices': ['min', 'max', 'mean']})"
   ]
  },
  {
   "cell_type": "markdown",
   "id": "440b3ae7",
   "metadata": {},
   "source": [
    "The prices column includes some unclean data that needs to be addressed. "
   ]
  },
  {
   "cell_type": "code",
   "execution_count": 22,
   "id": "73e98cbc",
   "metadata": {},
   "outputs": [],
   "source": [
    "# checking the values inside the prices column via crosstab\n",
    "crosstab = pd.crosstab(ords_prods_cust['prices'], ords_prods_cust['combined_profile'], dropna = False)"
   ]
  },
  {
   "cell_type": "code",
   "execution_count": 23,
   "id": "34de4b27",
   "metadata": {},
   "outputs": [],
   "source": [
    "# copy the table straight to your clipboard, allowing you to then paste it into Excel for easy viewing. \n",
    "crosstab.to_clipboard()"
   ]
  },
  {
   "cell_type": "markdown",
   "id": "660a3733",
   "metadata": {},
   "source": [
    "via crosstab, the following prices could be found:\n",
    "14900\n",
    "inf\n",
    "both are assumed to be dirty data and will thus be deleted"
   ]
  },
  {
   "cell_type": "code",
   "execution_count": 58,
   "id": "6de65ce4",
   "metadata": {
    "scrolled": true
   },
   "outputs": [],
   "source": [
    "# dropping rows with price value > 25\n",
    "ords_prods_cust.drop(ords_prods_cust.loc[ords_prods_cust['prices']>25].index, inplace=True)"
   ]
  },
  {
   "cell_type": "code",
   "execution_count": 6,
   "id": "2ecbbd18",
   "metadata": {},
   "outputs": [],
   "source": [
    "crosstab_1 = pd.crosstab(ords_prods_cust['prices'], ords_prods_cust['combined_profile'], dropna = False)"
   ]
  },
  {
   "cell_type": "code",
   "execution_count": 7,
   "id": "e7129677",
   "metadata": {},
   "outputs": [],
   "source": [
    "# copy the table straight to your clipboard, allowing you to then paste it into Excel for easy viewing. \n",
    "crosstab_1.to_clipboard()"
   ]
  },
  {
   "cell_type": "markdown",
   "id": "d5aa2eb7",
   "metadata": {},
   "source": [
    "### 7.1 Aggregating the max, mean, and min variables on a customer-profile level for expenditure:"
   ]
  },
  {
   "cell_type": "code",
   "execution_count": 59,
   "id": "9e54ef55",
   "metadata": {},
   "outputs": [
    {
     "data": {
      "text/html": [
       "<div>\n",
       "<style scoped>\n",
       "    .dataframe tbody tr th:only-of-type {\n",
       "        vertical-align: middle;\n",
       "    }\n",
       "\n",
       "    .dataframe tbody tr th {\n",
       "        vertical-align: top;\n",
       "    }\n",
       "\n",
       "    .dataframe thead tr th {\n",
       "        text-align: left;\n",
       "    }\n",
       "\n",
       "    .dataframe thead tr:last-of-type th {\n",
       "        text-align: right;\n",
       "    }\n",
       "</style>\n",
       "<table border=\"1\" class=\"dataframe\">\n",
       "  <thead>\n",
       "    <tr>\n",
       "      <th></th>\n",
       "      <th colspan=\"3\" halign=\"left\">prices</th>\n",
       "    </tr>\n",
       "    <tr>\n",
       "      <th></th>\n",
       "      <th>min</th>\n",
       "      <th>max</th>\n",
       "      <th>mean</th>\n",
       "    </tr>\n",
       "    <tr>\n",
       "      <th>age_profile</th>\n",
       "      <th></th>\n",
       "      <th></th>\n",
       "      <th></th>\n",
       "    </tr>\n",
       "  </thead>\n",
       "  <tbody>\n",
       "    <tr>\n",
       "      <th>mid-age</th>\n",
       "      <td>1.0</td>\n",
       "      <td>25.0</td>\n",
       "      <td>7.793769</td>\n",
       "    </tr>\n",
       "    <tr>\n",
       "      <th>senior</th>\n",
       "      <td>1.0</td>\n",
       "      <td>25.0</td>\n",
       "      <td>7.790755</td>\n",
       "    </tr>\n",
       "    <tr>\n",
       "      <th>young</th>\n",
       "      <td>1.0</td>\n",
       "      <td>25.0</td>\n",
       "      <td>7.785153</td>\n",
       "    </tr>\n",
       "  </tbody>\n",
       "</table>\n",
       "</div>"
      ],
      "text/plain": [
       "            prices                \n",
       "               min   max      mean\n",
       "age_profile                       \n",
       "mid-age        1.0  25.0  7.793769\n",
       "senior         1.0  25.0  7.790755\n",
       "young          1.0  25.0  7.785153"
      ]
     },
     "execution_count": 59,
     "metadata": {},
     "output_type": "execute_result"
    }
   ],
   "source": [
    "# Overview of expenditure leads to correct max and mean values\n",
    "\n",
    "ords_prods_cust.groupby('age_profile').agg({'prices': ['min', 'max', 'mean']})"
   ]
  },
  {
   "cell_type": "code",
   "execution_count": 60,
   "id": "5b38962d",
   "metadata": {},
   "outputs": [
    {
     "data": {
      "text/html": [
       "<div>\n",
       "<style scoped>\n",
       "    .dataframe tbody tr th:only-of-type {\n",
       "        vertical-align: middle;\n",
       "    }\n",
       "\n",
       "    .dataframe tbody tr th {\n",
       "        vertical-align: top;\n",
       "    }\n",
       "\n",
       "    .dataframe thead tr th {\n",
       "        text-align: left;\n",
       "    }\n",
       "\n",
       "    .dataframe thead tr:last-of-type th {\n",
       "        text-align: right;\n",
       "    }\n",
       "</style>\n",
       "<table border=\"1\" class=\"dataframe\">\n",
       "  <thead>\n",
       "    <tr>\n",
       "      <th></th>\n",
       "      <th colspan=\"3\" halign=\"left\">prices</th>\n",
       "    </tr>\n",
       "    <tr>\n",
       "      <th></th>\n",
       "      <th>min</th>\n",
       "      <th>max</th>\n",
       "      <th>mean</th>\n",
       "    </tr>\n",
       "    <tr>\n",
       "      <th>wealth_profile</th>\n",
       "      <th></th>\n",
       "      <th></th>\n",
       "      <th></th>\n",
       "    </tr>\n",
       "  </thead>\n",
       "  <tbody>\n",
       "    <tr>\n",
       "      <th>high</th>\n",
       "      <td>1.0</td>\n",
       "      <td>25.0</td>\n",
       "      <td>7.946404</td>\n",
       "    </tr>\n",
       "    <tr>\n",
       "      <th>low</th>\n",
       "      <td>1.0</td>\n",
       "      <td>25.0</td>\n",
       "      <td>6.717017</td>\n",
       "    </tr>\n",
       "    <tr>\n",
       "      <th>middle</th>\n",
       "      <td>1.0</td>\n",
       "      <td>25.0</td>\n",
       "      <td>7.884986</td>\n",
       "    </tr>\n",
       "  </tbody>\n",
       "</table>\n",
       "</div>"
      ],
      "text/plain": [
       "               prices                \n",
       "                  min   max      mean\n",
       "wealth_profile                       \n",
       "high              1.0  25.0  7.946404\n",
       "low               1.0  25.0  6.717017\n",
       "middle            1.0  25.0  7.884986"
      ]
     },
     "execution_count": 60,
     "metadata": {},
     "output_type": "execute_result"
    }
   ],
   "source": [
    "ords_prods_cust.groupby('wealth_profile').agg({'prices': ['min', 'max', 'mean']})"
   ]
  },
  {
   "cell_type": "code",
   "execution_count": 61,
   "id": "8ad1f02b",
   "metadata": {},
   "outputs": [
    {
     "data": {
      "text/html": [
       "<div>\n",
       "<style scoped>\n",
       "    .dataframe tbody tr th:only-of-type {\n",
       "        vertical-align: middle;\n",
       "    }\n",
       "\n",
       "    .dataframe tbody tr th {\n",
       "        vertical-align: top;\n",
       "    }\n",
       "\n",
       "    .dataframe thead tr th {\n",
       "        text-align: left;\n",
       "    }\n",
       "\n",
       "    .dataframe thead tr:last-of-type th {\n",
       "        text-align: right;\n",
       "    }\n",
       "</style>\n",
       "<table border=\"1\" class=\"dataframe\">\n",
       "  <thead>\n",
       "    <tr>\n",
       "      <th></th>\n",
       "      <th colspan=\"3\" halign=\"left\">prices</th>\n",
       "    </tr>\n",
       "    <tr>\n",
       "      <th></th>\n",
       "      <th>min</th>\n",
       "      <th>max</th>\n",
       "      <th>mean</th>\n",
       "    </tr>\n",
       "    <tr>\n",
       "      <th>family_status_profile</th>\n",
       "      <th></th>\n",
       "      <th></th>\n",
       "      <th></th>\n",
       "    </tr>\n",
       "  </thead>\n",
       "  <tbody>\n",
       "    <tr>\n",
       "      <th>parent</th>\n",
       "      <td>1.0</td>\n",
       "      <td>25.0</td>\n",
       "      <td>7.789961</td>\n",
       "    </tr>\n",
       "    <tr>\n",
       "      <th>single_adult</th>\n",
       "      <td>1.0</td>\n",
       "      <td>25.0</td>\n",
       "      <td>7.790567</td>\n",
       "    </tr>\n",
       "  </tbody>\n",
       "</table>\n",
       "</div>"
      ],
      "text/plain": [
       "                      prices                \n",
       "                         min   max      mean\n",
       "family_status_profile                       \n",
       "parent                   1.0  25.0  7.789961\n",
       "single_adult             1.0  25.0  7.790567"
      ]
     },
     "execution_count": 61,
     "metadata": {},
     "output_type": "execute_result"
    }
   ],
   "source": [
    "ords_prods_cust.groupby('family_status_profile').agg({'prices': ['min', 'max', 'mean']})"
   ]
  },
  {
   "cell_type": "code",
   "execution_count": 62,
   "id": "96970f66",
   "metadata": {},
   "outputs": [
    {
     "data": {
      "text/html": [
       "<div>\n",
       "<style scoped>\n",
       "    .dataframe tbody tr th:only-of-type {\n",
       "        vertical-align: middle;\n",
       "    }\n",
       "\n",
       "    .dataframe tbody tr th {\n",
       "        vertical-align: top;\n",
       "    }\n",
       "\n",
       "    .dataframe thead tr th {\n",
       "        text-align: left;\n",
       "    }\n",
       "\n",
       "    .dataframe thead tr:last-of-type th {\n",
       "        text-align: right;\n",
       "    }\n",
       "</style>\n",
       "<table border=\"1\" class=\"dataframe\">\n",
       "  <thead>\n",
       "    <tr>\n",
       "      <th></th>\n",
       "      <th colspan=\"3\" halign=\"left\">prices</th>\n",
       "    </tr>\n",
       "    <tr>\n",
       "      <th></th>\n",
       "      <th>min</th>\n",
       "      <th>max</th>\n",
       "      <th>mean</th>\n",
       "    </tr>\n",
       "    <tr>\n",
       "      <th>pet_owner_profile</th>\n",
       "      <th></th>\n",
       "      <th></th>\n",
       "      <th></th>\n",
       "    </tr>\n",
       "  </thead>\n",
       "  <tbody>\n",
       "    <tr>\n",
       "      <th>no_pet_owner</th>\n",
       "      <td>1.0</td>\n",
       "      <td>25.0</td>\n",
       "      <td>7.789841</td>\n",
       "    </tr>\n",
       "    <tr>\n",
       "      <th>pet_owner</th>\n",
       "      <td>1.0</td>\n",
       "      <td>15.0</td>\n",
       "      <td>7.882705</td>\n",
       "    </tr>\n",
       "  </tbody>\n",
       "</table>\n",
       "</div>"
      ],
      "text/plain": [
       "                  prices                \n",
       "                     min   max      mean\n",
       "pet_owner_profile                       \n",
       "no_pet_owner         1.0  25.0  7.789841\n",
       "pet_owner            1.0  15.0  7.882705"
      ]
     },
     "execution_count": 62,
     "metadata": {},
     "output_type": "execute_result"
    }
   ],
   "source": [
    "ords_prods_cust.groupby('pet_owner_profile').agg({'prices': ['min', 'max', 'mean']})"
   ]
  },
  {
   "cell_type": "code",
   "execution_count": 63,
   "id": "63f6d15e",
   "metadata": {},
   "outputs": [
    {
     "data": {
      "text/html": [
       "<div>\n",
       "<style scoped>\n",
       "    .dataframe tbody tr th:only-of-type {\n",
       "        vertical-align: middle;\n",
       "    }\n",
       "\n",
       "    .dataframe tbody tr th {\n",
       "        vertical-align: top;\n",
       "    }\n",
       "\n",
       "    .dataframe thead tr th {\n",
       "        text-align: left;\n",
       "    }\n",
       "\n",
       "    .dataframe thead tr:last-of-type th {\n",
       "        text-align: right;\n",
       "    }\n",
       "</style>\n",
       "<table border=\"1\" class=\"dataframe\">\n",
       "  <thead>\n",
       "    <tr>\n",
       "      <th></th>\n",
       "      <th colspan=\"3\" halign=\"left\">prices</th>\n",
       "    </tr>\n",
       "    <tr>\n",
       "      <th></th>\n",
       "      <th>min</th>\n",
       "      <th>max</th>\n",
       "      <th>mean</th>\n",
       "    </tr>\n",
       "    <tr>\n",
       "      <th>veggy_profile</th>\n",
       "      <th></th>\n",
       "      <th></th>\n",
       "      <th></th>\n",
       "    </tr>\n",
       "  </thead>\n",
       "  <tbody>\n",
       "    <tr>\n",
       "      <th>no vegetarian</th>\n",
       "      <td>8.0</td>\n",
       "      <td>25.0</td>\n",
       "      <td>16.299301</td>\n",
       "    </tr>\n",
       "    <tr>\n",
       "      <th>vegetarian</th>\n",
       "      <td>1.0</td>\n",
       "      <td>20.0</td>\n",
       "      <td>7.604611</td>\n",
       "    </tr>\n",
       "  </tbody>\n",
       "</table>\n",
       "</div>"
      ],
      "text/plain": [
       "              prices                 \n",
       "                 min   max       mean\n",
       "veggy_profile                        \n",
       "no vegetarian    8.0  25.0  16.299301\n",
       "vegetarian       1.0  20.0   7.604611"
      ]
     },
     "execution_count": 63,
     "metadata": {},
     "output_type": "execute_result"
    }
   ],
   "source": [
    "ords_prods_cust.groupby('veggy_profile').agg({'prices': ['min', 'max', 'mean']})"
   ]
  },
  {
   "cell_type": "code",
   "execution_count": 64,
   "id": "a636fcfe",
   "metadata": {},
   "outputs": [
    {
     "data": {
      "text/html": [
       "<div>\n",
       "<style scoped>\n",
       "    .dataframe tbody tr th:only-of-type {\n",
       "        vertical-align: middle;\n",
       "    }\n",
       "\n",
       "    .dataframe tbody tr th {\n",
       "        vertical-align: top;\n",
       "    }\n",
       "\n",
       "    .dataframe thead tr th {\n",
       "        text-align: left;\n",
       "    }\n",
       "\n",
       "    .dataframe thead tr:last-of-type th {\n",
       "        text-align: right;\n",
       "    }\n",
       "</style>\n",
       "<table border=\"1\" class=\"dataframe\">\n",
       "  <thead>\n",
       "    <tr>\n",
       "      <th></th>\n",
       "      <th colspan=\"3\" halign=\"left\">prices</th>\n",
       "    </tr>\n",
       "    <tr>\n",
       "      <th></th>\n",
       "      <th>min</th>\n",
       "      <th>max</th>\n",
       "      <th>mean</th>\n",
       "    </tr>\n",
       "    <tr>\n",
       "      <th>alcohol_profile</th>\n",
       "      <th></th>\n",
       "      <th></th>\n",
       "      <th></th>\n",
       "    </tr>\n",
       "  </thead>\n",
       "  <tbody>\n",
       "    <tr>\n",
       "      <th>alcohol drinker</th>\n",
       "      <td>1.0</td>\n",
       "      <td>15.0</td>\n",
       "      <td>8.156588</td>\n",
       "    </tr>\n",
       "    <tr>\n",
       "      <th>no alcohol drinker</th>\n",
       "      <td>1.0</td>\n",
       "      <td>25.0</td>\n",
       "      <td>7.788504</td>\n",
       "    </tr>\n",
       "  </tbody>\n",
       "</table>\n",
       "</div>"
      ],
      "text/plain": [
       "                   prices                \n",
       "                      min   max      mean\n",
       "alcohol_profile                          \n",
       "alcohol drinker       1.0  15.0  8.156588\n",
       "no alcohol drinker    1.0  25.0  7.788504"
      ]
     },
     "execution_count": 64,
     "metadata": {},
     "output_type": "execute_result"
    }
   ],
   "source": [
    "ords_prods_cust.groupby('alcohol_profile').agg({'prices': ['min', 'max', 'mean']})"
   ]
  },
  {
   "cell_type": "markdown",
   "id": "a9bfee7d",
   "metadata": {},
   "source": [
    "### 7.2 Aggregating the max, mean, and min variables on a customer-profile level for usage frequency:"
   ]
  },
  {
   "cell_type": "code",
   "execution_count": 66,
   "id": "022af2c8",
   "metadata": {},
   "outputs": [
    {
     "data": {
      "text/html": [
       "<div>\n",
       "<style scoped>\n",
       "    .dataframe tbody tr th:only-of-type {\n",
       "        vertical-align: middle;\n",
       "    }\n",
       "\n",
       "    .dataframe tbody tr th {\n",
       "        vertical-align: top;\n",
       "    }\n",
       "\n",
       "    .dataframe thead tr th {\n",
       "        text-align: left;\n",
       "    }\n",
       "\n",
       "    .dataframe thead tr:last-of-type th {\n",
       "        text-align: right;\n",
       "    }\n",
       "</style>\n",
       "<table border=\"1\" class=\"dataframe\">\n",
       "  <thead>\n",
       "    <tr>\n",
       "      <th></th>\n",
       "      <th colspan=\"3\" halign=\"left\">order_number</th>\n",
       "    </tr>\n",
       "    <tr>\n",
       "      <th></th>\n",
       "      <th>min</th>\n",
       "      <th>max</th>\n",
       "      <th>mean</th>\n",
       "    </tr>\n",
       "    <tr>\n",
       "      <th>age_profile</th>\n",
       "      <th></th>\n",
       "      <th></th>\n",
       "      <th></th>\n",
       "    </tr>\n",
       "  </thead>\n",
       "  <tbody>\n",
       "    <tr>\n",
       "      <th>mid-age</th>\n",
       "      <td>6</td>\n",
       "      <td>99</td>\n",
       "      <td>23.283027</td>\n",
       "    </tr>\n",
       "    <tr>\n",
       "      <th>senior</th>\n",
       "      <td>6</td>\n",
       "      <td>99</td>\n",
       "      <td>23.149996</td>\n",
       "    </tr>\n",
       "    <tr>\n",
       "      <th>young</th>\n",
       "      <td>6</td>\n",
       "      <td>99</td>\n",
       "      <td>23.056902</td>\n",
       "    </tr>\n",
       "  </tbody>\n",
       "</table>\n",
       "</div>"
      ],
      "text/plain": [
       "            order_number               \n",
       "                     min max       mean\n",
       "age_profile                            \n",
       "mid-age                6  99  23.283027\n",
       "senior                 6  99  23.149996\n",
       "young                  6  99  23.056902"
      ]
     },
     "execution_count": 66,
     "metadata": {},
     "output_type": "execute_result"
    }
   ],
   "source": [
    "ords_prods_cust.groupby('age_profile').agg({'order_number': ['min', 'max', 'mean']})"
   ]
  },
  {
   "cell_type": "code",
   "execution_count": 67,
   "id": "20c034e1",
   "metadata": {},
   "outputs": [
    {
     "data": {
      "text/html": [
       "<div>\n",
       "<style scoped>\n",
       "    .dataframe tbody tr th:only-of-type {\n",
       "        vertical-align: middle;\n",
       "    }\n",
       "\n",
       "    .dataframe tbody tr th {\n",
       "        vertical-align: top;\n",
       "    }\n",
       "\n",
       "    .dataframe thead tr th {\n",
       "        text-align: left;\n",
       "    }\n",
       "\n",
       "    .dataframe thead tr:last-of-type th {\n",
       "        text-align: right;\n",
       "    }\n",
       "</style>\n",
       "<table border=\"1\" class=\"dataframe\">\n",
       "  <thead>\n",
       "    <tr>\n",
       "      <th></th>\n",
       "      <th colspan=\"3\" halign=\"left\">order_number</th>\n",
       "    </tr>\n",
       "    <tr>\n",
       "      <th></th>\n",
       "      <th>min</th>\n",
       "      <th>max</th>\n",
       "      <th>mean</th>\n",
       "    </tr>\n",
       "    <tr>\n",
       "      <th>wealth_profile</th>\n",
       "      <th></th>\n",
       "      <th></th>\n",
       "      <th></th>\n",
       "    </tr>\n",
       "  </thead>\n",
       "  <tbody>\n",
       "    <tr>\n",
       "      <th>high</th>\n",
       "      <td>6</td>\n",
       "      <td>99</td>\n",
       "      <td>23.217555</td>\n",
       "    </tr>\n",
       "    <tr>\n",
       "      <th>low</th>\n",
       "      <td>6</td>\n",
       "      <td>99</td>\n",
       "      <td>22.370956</td>\n",
       "    </tr>\n",
       "    <tr>\n",
       "      <th>middle</th>\n",
       "      <td>6</td>\n",
       "      <td>99</td>\n",
       "      <td>23.291071</td>\n",
       "    </tr>\n",
       "  </tbody>\n",
       "</table>\n",
       "</div>"
      ],
      "text/plain": [
       "               order_number               \n",
       "                        min max       mean\n",
       "wealth_profile                            \n",
       "high                      6  99  23.217555\n",
       "low                       6  99  22.370956\n",
       "middle                    6  99  23.291071"
      ]
     },
     "execution_count": 67,
     "metadata": {},
     "output_type": "execute_result"
    }
   ],
   "source": [
    "ords_prods_cust.groupby('wealth_profile').agg({'order_number': ['min', 'max', 'mean']})"
   ]
  },
  {
   "cell_type": "code",
   "execution_count": 68,
   "id": "cdcec464",
   "metadata": {},
   "outputs": [
    {
     "data": {
      "text/html": [
       "<div>\n",
       "<style scoped>\n",
       "    .dataframe tbody tr th:only-of-type {\n",
       "        vertical-align: middle;\n",
       "    }\n",
       "\n",
       "    .dataframe tbody tr th {\n",
       "        vertical-align: top;\n",
       "    }\n",
       "\n",
       "    .dataframe thead tr th {\n",
       "        text-align: left;\n",
       "    }\n",
       "\n",
       "    .dataframe thead tr:last-of-type th {\n",
       "        text-align: right;\n",
       "    }\n",
       "</style>\n",
       "<table border=\"1\" class=\"dataframe\">\n",
       "  <thead>\n",
       "    <tr>\n",
       "      <th></th>\n",
       "      <th colspan=\"3\" halign=\"left\">order_number</th>\n",
       "    </tr>\n",
       "    <tr>\n",
       "      <th></th>\n",
       "      <th>min</th>\n",
       "      <th>max</th>\n",
       "      <th>mean</th>\n",
       "    </tr>\n",
       "    <tr>\n",
       "      <th>family_status_profile</th>\n",
       "      <th></th>\n",
       "      <th></th>\n",
       "      <th></th>\n",
       "    </tr>\n",
       "  </thead>\n",
       "  <tbody>\n",
       "    <tr>\n",
       "      <th>parent</th>\n",
       "      <td>6</td>\n",
       "      <td>99</td>\n",
       "      <td>23.108280</td>\n",
       "    </tr>\n",
       "    <tr>\n",
       "      <th>single_adult</th>\n",
       "      <td>6</td>\n",
       "      <td>99</td>\n",
       "      <td>23.316065</td>\n",
       "    </tr>\n",
       "  </tbody>\n",
       "</table>\n",
       "</div>"
      ],
      "text/plain": [
       "                      order_number               \n",
       "                               min max       mean\n",
       "family_status_profile                            \n",
       "parent                           6  99  23.108280\n",
       "single_adult                     6  99  23.316065"
      ]
     },
     "execution_count": 68,
     "metadata": {},
     "output_type": "execute_result"
    }
   ],
   "source": [
    "ords_prods_cust.groupby('family_status_profile').agg({'order_number': ['min', 'max', 'mean']})"
   ]
  },
  {
   "cell_type": "code",
   "execution_count": 69,
   "id": "0a5d1f29",
   "metadata": {},
   "outputs": [
    {
     "data": {
      "text/html": [
       "<div>\n",
       "<style scoped>\n",
       "    .dataframe tbody tr th:only-of-type {\n",
       "        vertical-align: middle;\n",
       "    }\n",
       "\n",
       "    .dataframe tbody tr th {\n",
       "        vertical-align: top;\n",
       "    }\n",
       "\n",
       "    .dataframe thead tr th {\n",
       "        text-align: left;\n",
       "    }\n",
       "\n",
       "    .dataframe thead tr:last-of-type th {\n",
       "        text-align: right;\n",
       "    }\n",
       "</style>\n",
       "<table border=\"1\" class=\"dataframe\">\n",
       "  <thead>\n",
       "    <tr>\n",
       "      <th></th>\n",
       "      <th colspan=\"3\" halign=\"left\">order_number</th>\n",
       "    </tr>\n",
       "    <tr>\n",
       "      <th></th>\n",
       "      <th>min</th>\n",
       "      <th>max</th>\n",
       "      <th>mean</th>\n",
       "    </tr>\n",
       "    <tr>\n",
       "      <th>pet_owner_profile</th>\n",
       "      <th></th>\n",
       "      <th></th>\n",
       "      <th></th>\n",
       "    </tr>\n",
       "  </thead>\n",
       "  <tbody>\n",
       "    <tr>\n",
       "      <th>no_pet_owner</th>\n",
       "      <td>6</td>\n",
       "      <td>99</td>\n",
       "      <td>23.166282</td>\n",
       "    </tr>\n",
       "    <tr>\n",
       "      <th>pet_owner</th>\n",
       "      <td>6</td>\n",
       "      <td>99</td>\n",
       "      <td>21.107683</td>\n",
       "    </tr>\n",
       "  </tbody>\n",
       "</table>\n",
       "</div>"
      ],
      "text/plain": [
       "                  order_number               \n",
       "                           min max       mean\n",
       "pet_owner_profile                            \n",
       "no_pet_owner                 6  99  23.166282\n",
       "pet_owner                    6  99  21.107683"
      ]
     },
     "execution_count": 69,
     "metadata": {},
     "output_type": "execute_result"
    }
   ],
   "source": [
    "ords_prods_cust.groupby('pet_owner_profile').agg({'order_number': ['min', 'max', 'mean']})"
   ]
  },
  {
   "cell_type": "code",
   "execution_count": 70,
   "id": "8e982c56",
   "metadata": {},
   "outputs": [
    {
     "data": {
      "text/html": [
       "<div>\n",
       "<style scoped>\n",
       "    .dataframe tbody tr th:only-of-type {\n",
       "        vertical-align: middle;\n",
       "    }\n",
       "\n",
       "    .dataframe tbody tr th {\n",
       "        vertical-align: top;\n",
       "    }\n",
       "\n",
       "    .dataframe thead tr th {\n",
       "        text-align: left;\n",
       "    }\n",
       "\n",
       "    .dataframe thead tr:last-of-type th {\n",
       "        text-align: right;\n",
       "    }\n",
       "</style>\n",
       "<table border=\"1\" class=\"dataframe\">\n",
       "  <thead>\n",
       "    <tr>\n",
       "      <th></th>\n",
       "      <th colspan=\"3\" halign=\"left\">order_number</th>\n",
       "    </tr>\n",
       "    <tr>\n",
       "      <th></th>\n",
       "      <th>min</th>\n",
       "      <th>max</th>\n",
       "      <th>mean</th>\n",
       "    </tr>\n",
       "    <tr>\n",
       "      <th>veggy_profile</th>\n",
       "      <th></th>\n",
       "      <th></th>\n",
       "      <th></th>\n",
       "    </tr>\n",
       "  </thead>\n",
       "  <tbody>\n",
       "    <tr>\n",
       "      <th>no vegetarian</th>\n",
       "      <td>6</td>\n",
       "      <td>99</td>\n",
       "      <td>21.844850</td>\n",
       "    </tr>\n",
       "    <tr>\n",
       "      <th>vegetarian</th>\n",
       "      <td>6</td>\n",
       "      <td>99</td>\n",
       "      <td>23.188925</td>\n",
       "    </tr>\n",
       "  </tbody>\n",
       "</table>\n",
       "</div>"
      ],
      "text/plain": [
       "              order_number               \n",
       "                       min max       mean\n",
       "veggy_profile                            \n",
       "no vegetarian            6  99  21.844850\n",
       "vegetarian               6  99  23.188925"
      ]
     },
     "execution_count": 70,
     "metadata": {},
     "output_type": "execute_result"
    }
   ],
   "source": [
    "ords_prods_cust.groupby('veggy_profile').agg({'order_number': ['min', 'max', 'mean']})"
   ]
  },
  {
   "cell_type": "code",
   "execution_count": 71,
   "id": "8c4f4cac",
   "metadata": {
    "scrolled": false
   },
   "outputs": [
    {
     "data": {
      "text/html": [
       "<div>\n",
       "<style scoped>\n",
       "    .dataframe tbody tr th:only-of-type {\n",
       "        vertical-align: middle;\n",
       "    }\n",
       "\n",
       "    .dataframe tbody tr th {\n",
       "        vertical-align: top;\n",
       "    }\n",
       "\n",
       "    .dataframe thead tr th {\n",
       "        text-align: left;\n",
       "    }\n",
       "\n",
       "    .dataframe thead tr:last-of-type th {\n",
       "        text-align: right;\n",
       "    }\n",
       "</style>\n",
       "<table border=\"1\" class=\"dataframe\">\n",
       "  <thead>\n",
       "    <tr>\n",
       "      <th></th>\n",
       "      <th colspan=\"3\" halign=\"left\">order_number</th>\n",
       "    </tr>\n",
       "    <tr>\n",
       "      <th></th>\n",
       "      <th>min</th>\n",
       "      <th>max</th>\n",
       "      <th>mean</th>\n",
       "    </tr>\n",
       "    <tr>\n",
       "      <th>alcohol_profile</th>\n",
       "      <th></th>\n",
       "      <th></th>\n",
       "      <th></th>\n",
       "    </tr>\n",
       "  </thead>\n",
       "  <tbody>\n",
       "    <tr>\n",
       "      <th>alcohol drinker</th>\n",
       "      <td>6</td>\n",
       "      <td>99</td>\n",
       "      <td>21.961801</td>\n",
       "    </tr>\n",
       "    <tr>\n",
       "      <th>no alcohol drinker</th>\n",
       "      <td>6</td>\n",
       "      <td>99</td>\n",
       "      <td>23.165510</td>\n",
       "    </tr>\n",
       "  </tbody>\n",
       "</table>\n",
       "</div>"
      ],
      "text/plain": [
       "                   order_number               \n",
       "                            min max       mean\n",
       "alcohol_profile                               \n",
       "alcohol drinker               6  99  21.961801\n",
       "no alcohol drinker            6  99  23.165510"
      ]
     },
     "execution_count": 71,
     "metadata": {},
     "output_type": "execute_result"
    }
   ],
   "source": [
    "ords_prods_cust.groupby('alcohol_profile').agg({'order_number': ['min', 'max', 'mean']})"
   ]
  },
  {
   "cell_type": "code",
   "execution_count": 72,
   "id": "d960db41",
   "metadata": {},
   "outputs": [],
   "source": [
    "# Data Export: \n",
    "ords_prods_cust.to_pickle(os.path.join(path, '02_data','prepared_data', '4.10_task7.pkl'))"
   ]
  },
  {
   "cell_type": "markdown",
   "id": "1ac1ac66",
   "metadata": {},
   "source": [
    "### 8. Identify links in customer profiles with regions and departments and visualizing them"
   ]
  },
  {
   "cell_type": "markdown",
   "id": "59cf876e",
   "metadata": {},
   "source": [
    "Compare your customer profiles with regions and departments. Can you identify a link between them? Customers may demonstrate different behaviors across regions, which could make this information important.\n",
    "\n",
    "Produce suitable charts to illustrate your results and export them in your project folder."
   ]
  },
  {
   "cell_type": "code",
   "execution_count": 88,
   "id": "f641d32c",
   "metadata": {},
   "outputs": [
    {
     "data": {
      "text/html": [
       "<div>\n",
       "<style scoped>\n",
       "    .dataframe tbody tr th:only-of-type {\n",
       "        vertical-align: middle;\n",
       "    }\n",
       "\n",
       "    .dataframe tbody tr th {\n",
       "        vertical-align: top;\n",
       "    }\n",
       "\n",
       "    .dataframe thead th {\n",
       "        text-align: right;\n",
       "    }\n",
       "</style>\n",
       "<table border=\"1\" class=\"dataframe\">\n",
       "  <thead>\n",
       "    <tr style=\"text-align: right;\">\n",
       "      <th></th>\n",
       "      <th>Unnamed: 0</th>\n",
       "      <th>department</th>\n",
       "    </tr>\n",
       "  </thead>\n",
       "  <tbody>\n",
       "    <tr>\n",
       "      <th>0</th>\n",
       "      <td>1</td>\n",
       "      <td>frozen</td>\n",
       "    </tr>\n",
       "    <tr>\n",
       "      <th>1</th>\n",
       "      <td>2</td>\n",
       "      <td>other</td>\n",
       "    </tr>\n",
       "    <tr>\n",
       "      <th>2</th>\n",
       "      <td>3</td>\n",
       "      <td>bakery</td>\n",
       "    </tr>\n",
       "    <tr>\n",
       "      <th>3</th>\n",
       "      <td>4</td>\n",
       "      <td>produce</td>\n",
       "    </tr>\n",
       "    <tr>\n",
       "      <th>4</th>\n",
       "      <td>5</td>\n",
       "      <td>alcohol</td>\n",
       "    </tr>\n",
       "    <tr>\n",
       "      <th>5</th>\n",
       "      <td>6</td>\n",
       "      <td>international</td>\n",
       "    </tr>\n",
       "    <tr>\n",
       "      <th>6</th>\n",
       "      <td>7</td>\n",
       "      <td>beverages</td>\n",
       "    </tr>\n",
       "    <tr>\n",
       "      <th>7</th>\n",
       "      <td>8</td>\n",
       "      <td>pets</td>\n",
       "    </tr>\n",
       "    <tr>\n",
       "      <th>8</th>\n",
       "      <td>9</td>\n",
       "      <td>dry goods pasta</td>\n",
       "    </tr>\n",
       "    <tr>\n",
       "      <th>9</th>\n",
       "      <td>10</td>\n",
       "      <td>bulk</td>\n",
       "    </tr>\n",
       "    <tr>\n",
       "      <th>10</th>\n",
       "      <td>11</td>\n",
       "      <td>personal care</td>\n",
       "    </tr>\n",
       "    <tr>\n",
       "      <th>11</th>\n",
       "      <td>12</td>\n",
       "      <td>meat seafood</td>\n",
       "    </tr>\n",
       "    <tr>\n",
       "      <th>12</th>\n",
       "      <td>13</td>\n",
       "      <td>pantry</td>\n",
       "    </tr>\n",
       "    <tr>\n",
       "      <th>13</th>\n",
       "      <td>14</td>\n",
       "      <td>breakfast</td>\n",
       "    </tr>\n",
       "    <tr>\n",
       "      <th>14</th>\n",
       "      <td>15</td>\n",
       "      <td>canned goods</td>\n",
       "    </tr>\n",
       "    <tr>\n",
       "      <th>15</th>\n",
       "      <td>16</td>\n",
       "      <td>dairy eggs</td>\n",
       "    </tr>\n",
       "    <tr>\n",
       "      <th>16</th>\n",
       "      <td>17</td>\n",
       "      <td>household</td>\n",
       "    </tr>\n",
       "    <tr>\n",
       "      <th>17</th>\n",
       "      <td>18</td>\n",
       "      <td>babies</td>\n",
       "    </tr>\n",
       "    <tr>\n",
       "      <th>18</th>\n",
       "      <td>19</td>\n",
       "      <td>snacks</td>\n",
       "    </tr>\n",
       "    <tr>\n",
       "      <th>19</th>\n",
       "      <td>20</td>\n",
       "      <td>deli</td>\n",
       "    </tr>\n",
       "    <tr>\n",
       "      <th>20</th>\n",
       "      <td>21</td>\n",
       "      <td>missing</td>\n",
       "    </tr>\n",
       "  </tbody>\n",
       "</table>\n",
       "</div>"
      ],
      "text/plain": [
       "    Unnamed: 0       department\n",
       "0            1           frozen\n",
       "1            2            other\n",
       "2            3           bakery\n",
       "3            4          produce\n",
       "4            5          alcohol\n",
       "5            6    international\n",
       "6            7        beverages\n",
       "7            8             pets\n",
       "8            9  dry goods pasta\n",
       "9           10             bulk\n",
       "10          11    personal care\n",
       "11          12     meat seafood\n",
       "12          13           pantry\n",
       "13          14        breakfast\n",
       "14          15     canned goods\n",
       "15          16       dairy eggs\n",
       "16          17        household\n",
       "17          18           babies\n",
       "18          19           snacks\n",
       "19          20             deli\n",
       "20          21          missing"
      ]
     },
     "execution_count": 88,
     "metadata": {},
     "output_type": "execute_result"
    }
   ],
   "source": [
    "# checking the meaning of the department_id´s\n",
    "df_departments.head(30)"
   ]
  },
  {
   "cell_type": "markdown",
   "id": "b9b0b996",
   "metadata": {},
   "source": [
    "### 8.1 Observations on age groups"
   ]
  },
  {
   "cell_type": "code",
   "execution_count": 81,
   "id": "9249ed14",
   "metadata": {},
   "outputs": [
    {
     "data": {
      "text/html": [
       "<div>\n",
       "<style scoped>\n",
       "    .dataframe tbody tr th:only-of-type {\n",
       "        vertical-align: middle;\n",
       "    }\n",
       "\n",
       "    .dataframe tbody tr th {\n",
       "        vertical-align: top;\n",
       "    }\n",
       "\n",
       "    .dataframe thead th {\n",
       "        text-align: right;\n",
       "    }\n",
       "</style>\n",
       "<table border=\"1\" class=\"dataframe\">\n",
       "  <thead>\n",
       "    <tr style=\"text-align: right;\">\n",
       "      <th>age_profile</th>\n",
       "      <th>mid-age</th>\n",
       "      <th>senior</th>\n",
       "      <th>young</th>\n",
       "    </tr>\n",
       "    <tr>\n",
       "      <th>region</th>\n",
       "      <th></th>\n",
       "      <th></th>\n",
       "      <th></th>\n",
       "    </tr>\n",
       "  </thead>\n",
       "  <tbody>\n",
       "    <tr>\n",
       "      <th>Region 1 (Northeast)</th>\n",
       "      <td>1000372</td>\n",
       "      <td>2015610</td>\n",
       "      <td>1011499</td>\n",
       "    </tr>\n",
       "    <tr>\n",
       "      <th>Region 2 (Midwest)</th>\n",
       "      <td>1368896</td>\n",
       "      <td>2635410</td>\n",
       "      <td>1320998</td>\n",
       "    </tr>\n",
       "    <tr>\n",
       "      <th>Region 3 (South)</th>\n",
       "      <td>1914367</td>\n",
       "      <td>3747183</td>\n",
       "      <td>1925528</td>\n",
       "    </tr>\n",
       "    <tr>\n",
       "      <th>Region 4 (West)</th>\n",
       "      <td>1464856</td>\n",
       "      <td>2932690</td>\n",
       "      <td>1447149</td>\n",
       "    </tr>\n",
       "  </tbody>\n",
       "</table>\n",
       "</div>"
      ],
      "text/plain": [
       "age_profile           mid-age   senior    young\n",
       "region                                         \n",
       "Region 1 (Northeast)  1000372  2015610  1011499\n",
       "Region 2 (Midwest)    1368896  2635410  1320998\n",
       "Region 3 (South)      1914367  3747183  1925528\n",
       "Region 4 (West)       1464856  2932690  1447149"
      ]
     },
     "execution_count": 81,
     "metadata": {},
     "output_type": "execute_result"
    }
   ],
   "source": [
    "crosstab_age_region = pd.crosstab(ords_prods_cust['region'], ords_prods_cust['age_profile'], dropna = False)\n",
    "crosstab_age_region"
   ]
  },
  {
   "cell_type": "code",
   "execution_count": 92,
   "id": "e7ddd68a",
   "metadata": {},
   "outputs": [
    {
     "data": {
      "image/png": "[encoded data removed]",
      "text/plain": [
       "<Figure size 640x480 with 1 Axes>"
      ]
     },
     "metadata": {},
     "output_type": "display_data"
    }
   ],
   "source": [
    "bar_age_regions = crosstab_age_region.plot(kind = 'bar', stacked = False, color = ['salmon', 'grey','black'])"
   ]
  },
  {
   "cell_type": "markdown",
   "id": "36f255a2",
   "metadata": {},
   "source": [
    "In all age groups, most customers live in the southern part of US, while southeast has the least."
   ]
  },
  {
   "cell_type": "code",
   "execution_count": 133,
   "id": "691e5b18",
   "metadata": {},
   "outputs": [],
   "source": [
    "# exporting the chart\n",
    "bar_age_regions.figure.savefig(os.path.join(path, '04_Analysis','Vizualizations', '4.10_bar_age_regions.png'))"
   ]
  },
  {
   "cell_type": "code",
   "execution_count": 82,
   "id": "fae46c36",
   "metadata": {
    "scrolled": true
   },
   "outputs": [
    {
     "data": {
      "text/html": [
       "<div>\n",
       "<style scoped>\n",
       "    .dataframe tbody tr th:only-of-type {\n",
       "        vertical-align: middle;\n",
       "    }\n",
       "\n",
       "    .dataframe tbody tr th {\n",
       "        vertical-align: top;\n",
       "    }\n",
       "\n",
       "    .dataframe thead th {\n",
       "        text-align: right;\n",
       "    }\n",
       "</style>\n",
       "<table border=\"1\" class=\"dataframe\">\n",
       "  <thead>\n",
       "    <tr style=\"text-align: right;\">\n",
       "      <th>age_profile</th>\n",
       "      <th>mid-age</th>\n",
       "      <th>senior</th>\n",
       "      <th>young</th>\n",
       "    </tr>\n",
       "    <tr>\n",
       "      <th>department_id</th>\n",
       "      <th></th>\n",
       "      <th></th>\n",
       "      <th></th>\n",
       "    </tr>\n",
       "  </thead>\n",
       "  <tbody>\n",
       "    <tr>\n",
       "      <th>1</th>\n",
       "      <td>378080</td>\n",
       "      <td>754514</td>\n",
       "      <td>373434</td>\n",
       "    </tr>\n",
       "    <tr>\n",
       "      <th>2</th>\n",
       "      <td>6199</td>\n",
       "      <td>12522</td>\n",
       "      <td>6609</td>\n",
       "    </tr>\n",
       "    <tr>\n",
       "      <th>3</th>\n",
       "      <td>207608</td>\n",
       "      <td>410306</td>\n",
       "      <td>206744</td>\n",
       "    </tr>\n",
       "    <tr>\n",
       "      <th>4</th>\n",
       "      <td>1712418</td>\n",
       "      <td>3364351</td>\n",
       "      <td>1689319</td>\n",
       "    </tr>\n",
       "    <tr>\n",
       "      <th>5</th>\n",
       "      <td>24989</td>\n",
       "      <td>48007</td>\n",
       "      <td>26589</td>\n",
       "    </tr>\n",
       "    <tr>\n",
       "      <th>6</th>\n",
       "      <td>46783</td>\n",
       "      <td>90383</td>\n",
       "      <td>46692</td>\n",
       "    </tr>\n",
       "    <tr>\n",
       "      <th>7</th>\n",
       "      <td>475381</td>\n",
       "      <td>954623</td>\n",
       "      <td>471308</td>\n",
       "    </tr>\n",
       "    <tr>\n",
       "      <th>8</th>\n",
       "      <td>16076</td>\n",
       "      <td>33510</td>\n",
       "      <td>17184</td>\n",
       "    </tr>\n",
       "    <tr>\n",
       "      <th>9</th>\n",
       "      <td>146479</td>\n",
       "      <td>292717</td>\n",
       "      <td>148360</td>\n",
       "    </tr>\n",
       "    <tr>\n",
       "      <th>10</th>\n",
       "      <td>6638</td>\n",
       "      <td>12803</td>\n",
       "      <td>6565</td>\n",
       "    </tr>\n",
       "    <tr>\n",
       "      <th>11</th>\n",
       "      <td>76995</td>\n",
       "      <td>151712</td>\n",
       "      <td>76017</td>\n",
       "    </tr>\n",
       "    <tr>\n",
       "      <th>12</th>\n",
       "      <td>121544</td>\n",
       "      <td>243106</td>\n",
       "      <td>121459</td>\n",
       "    </tr>\n",
       "    <tr>\n",
       "      <th>13</th>\n",
       "      <td>324475</td>\n",
       "      <td>641119</td>\n",
       "      <td>322424</td>\n",
       "    </tr>\n",
       "    <tr>\n",
       "      <th>14</th>\n",
       "      <td>123062</td>\n",
       "      <td>241992</td>\n",
       "      <td>124025</td>\n",
       "    </tr>\n",
       "    <tr>\n",
       "      <th>15</th>\n",
       "      <td>184546</td>\n",
       "      <td>363322</td>\n",
       "      <td>184219</td>\n",
       "    </tr>\n",
       "    <tr>\n",
       "      <th>16</th>\n",
       "      <td>976906</td>\n",
       "      <td>1905085</td>\n",
       "      <td>972409</td>\n",
       "    </tr>\n",
       "    <tr>\n",
       "      <th>17</th>\n",
       "      <td>126798</td>\n",
       "      <td>248804</td>\n",
       "      <td>123787</td>\n",
       "    </tr>\n",
       "    <tr>\n",
       "      <th>18</th>\n",
       "      <td>83438</td>\n",
       "      <td>155990</td>\n",
       "      <td>77667</td>\n",
       "    </tr>\n",
       "    <tr>\n",
       "      <th>19</th>\n",
       "      <td>511915</td>\n",
       "      <td>1017362</td>\n",
       "      <td>514054</td>\n",
       "    </tr>\n",
       "    <tr>\n",
       "      <th>20</th>\n",
       "      <td>184264</td>\n",
       "      <td>361868</td>\n",
       "      <td>182187</td>\n",
       "    </tr>\n",
       "    <tr>\n",
       "      <th>21</th>\n",
       "      <td>13897</td>\n",
       "      <td>26797</td>\n",
       "      <td>14122</td>\n",
       "    </tr>\n",
       "  </tbody>\n",
       "</table>\n",
       "</div>"
      ],
      "text/plain": [
       "age_profile    mid-age   senior    young\n",
       "department_id                           \n",
       "1               378080   754514   373434\n",
       "2                 6199    12522     6609\n",
       "3               207608   410306   206744\n",
       "4              1712418  3364351  1689319\n",
       "5                24989    48007    26589\n",
       "6                46783    90383    46692\n",
       "7               475381   954623   471308\n",
       "8                16076    33510    17184\n",
       "9               146479   292717   148360\n",
       "10                6638    12803     6565\n",
       "11               76995   151712    76017\n",
       "12              121544   243106   121459\n",
       "13              324475   641119   322424\n",
       "14              123062   241992   124025\n",
       "15              184546   363322   184219\n",
       "16              976906  1905085   972409\n",
       "17              126798   248804   123787\n",
       "18               83438   155990    77667\n",
       "19              511915  1017362   514054\n",
       "20              184264   361868   182187\n",
       "21               13897    26797    14122"
      ]
     },
     "execution_count": 82,
     "metadata": {},
     "output_type": "execute_result"
    }
   ],
   "source": [
    "crosstab_age_departments = pd.crosstab(ords_prods_cust['department_id'], ords_prods_cust['age_profile'], dropna = False)\n",
    "crosstab_age_departments"
   ]
  },
  {
   "cell_type": "code",
   "execution_count": 90,
   "id": "561ca1f3",
   "metadata": {},
   "outputs": [
    {
     "data": {
      "image/png": "[encoded data removed]",
      "text/plain": [
       "<Figure size 640x480 with 1 Axes>"
      ]
     },
     "metadata": {},
     "output_type": "display_data"
    }
   ],
   "source": [
    "bar_age_departments = crosstab_age_departments.plot(kind = 'bar', stacked = True, color = ['salmon', 'grey','black'])"
   ]
  },
  {
   "cell_type": "markdown",
   "id": "f324a6ff",
   "metadata": {},
   "source": [
    "In all age groups, the most favourite articles are alcohol products, followed by household and deli products.\n",
    "\n",
    "Personal care and bakery articles sell least well among all age groups."
   ]
  },
  {
   "cell_type": "code",
   "execution_count": 134,
   "id": "c2267239",
   "metadata": {},
   "outputs": [],
   "source": [
    "# exporting the chart\n",
    "bar_age_departments.figure.savefig(os.path.join(path, '04_Analysis','Vizualizations', '4.10_bar_age_departments.png'))"
   ]
  },
  {
   "cell_type": "markdown",
   "id": "b57004ae",
   "metadata": {},
   "source": [
    "### 8.2 Observations on different wealth groups"
   ]
  },
  {
   "cell_type": "code",
   "execution_count": 93,
   "id": "2c85916d",
   "metadata": {},
   "outputs": [
    {
     "data": {
      "text/html": [
       "<div>\n",
       "<style scoped>\n",
       "    .dataframe tbody tr th:only-of-type {\n",
       "        vertical-align: middle;\n",
       "    }\n",
       "\n",
       "    .dataframe tbody tr th {\n",
       "        vertical-align: top;\n",
       "    }\n",
       "\n",
       "    .dataframe thead th {\n",
       "        text-align: right;\n",
       "    }\n",
       "</style>\n",
       "<table border=\"1\" class=\"dataframe\">\n",
       "  <thead>\n",
       "    <tr style=\"text-align: right;\">\n",
       "      <th>wealth_profile</th>\n",
       "      <th>high</th>\n",
       "      <th>low</th>\n",
       "      <th>middle</th>\n",
       "    </tr>\n",
       "    <tr>\n",
       "      <th>region</th>\n",
       "      <th></th>\n",
       "      <th></th>\n",
       "      <th></th>\n",
       "    </tr>\n",
       "  </thead>\n",
       "  <tbody>\n",
       "    <tr>\n",
       "      <th>Region 1 (Northeast)</th>\n",
       "      <td>1858133</td>\n",
       "      <td>418008</td>\n",
       "      <td>1751340</td>\n",
       "    </tr>\n",
       "    <tr>\n",
       "      <th>Region 2 (Midwest)</th>\n",
       "      <td>2506666</td>\n",
       "      <td>559590</td>\n",
       "      <td>2259048</td>\n",
       "    </tr>\n",
       "    <tr>\n",
       "      <th>Region 3 (South)</th>\n",
       "      <td>3434943</td>\n",
       "      <td>821222</td>\n",
       "      <td>3330913</td>\n",
       "    </tr>\n",
       "    <tr>\n",
       "      <th>Region 4 (West)</th>\n",
       "      <td>2682528</td>\n",
       "      <td>603172</td>\n",
       "      <td>2558995</td>\n",
       "    </tr>\n",
       "  </tbody>\n",
       "</table>\n",
       "</div>"
      ],
      "text/plain": [
       "wealth_profile           high     low   middle\n",
       "region                                        \n",
       "Region 1 (Northeast)  1858133  418008  1751340\n",
       "Region 2 (Midwest)    2506666  559590  2259048\n",
       "Region 3 (South)      3434943  821222  3330913\n",
       "Region 4 (West)       2682528  603172  2558995"
      ]
     },
     "execution_count": 93,
     "metadata": {},
     "output_type": "execute_result"
    }
   ],
   "source": [
    "crosstab_wealth_region = pd.crosstab(ords_prods_cust['region'], ords_prods_cust['wealth_profile'], dropna = False)\n",
    "crosstab_wealth_region"
   ]
  },
  {
   "cell_type": "code",
   "execution_count": 99,
   "id": "beadf136",
   "metadata": {},
   "outputs": [
    {
     "data": {
      "image/png": "[encoded data removed]",
      "text/plain": [
       "<Figure size 640x480 with 1 Axes>"
      ]
     },
     "metadata": {},
     "output_type": "display_data"
    }
   ],
   "source": [
    "bar_wealth_regions = crosstab_wealth_region.plot(kind = 'bar', stacked = False, color = ['mediumblue', 'cornflowerblue','slategrey'])"
   ]
  },
  {
   "cell_type": "markdown",
   "id": "e0bb4f02",
   "metadata": {},
   "source": [
    "In the south, all three wealth profiles are most common. \n",
    "\n",
    "Overall, there are relatively few people with low incomes."
   ]
  },
  {
   "cell_type": "code",
   "execution_count": 135,
   "id": "1e8ecc2b",
   "metadata": {},
   "outputs": [],
   "source": [
    "# exporting the chart\n",
    "bar_wealth_regions.figure.savefig(os.path.join(path, '04_Analysis','Vizualizations', '4.10_bar_wealth_regions.png'))"
   ]
  },
  {
   "cell_type": "code",
   "execution_count": 97,
   "id": "0b0ae280",
   "metadata": {},
   "outputs": [
    {
     "data": {
      "text/html": [
       "<div>\n",
       "<style scoped>\n",
       "    .dataframe tbody tr th:only-of-type {\n",
       "        vertical-align: middle;\n",
       "    }\n",
       "\n",
       "    .dataframe tbody tr th {\n",
       "        vertical-align: top;\n",
       "    }\n",
       "\n",
       "    .dataframe thead th {\n",
       "        text-align: right;\n",
       "    }\n",
       "</style>\n",
       "<table border=\"1\" class=\"dataframe\">\n",
       "  <thead>\n",
       "    <tr style=\"text-align: right;\">\n",
       "      <th>wealth_profile</th>\n",
       "      <th>high</th>\n",
       "      <th>low</th>\n",
       "      <th>middle</th>\n",
       "    </tr>\n",
       "    <tr>\n",
       "      <th>department_id</th>\n",
       "      <th></th>\n",
       "      <th></th>\n",
       "      <th></th>\n",
       "    </tr>\n",
       "  </thead>\n",
       "  <tbody>\n",
       "    <tr>\n",
       "      <th>1</th>\n",
       "      <td>707054</td>\n",
       "      <td>145742</td>\n",
       "      <td>653232</td>\n",
       "    </tr>\n",
       "    <tr>\n",
       "      <th>2</th>\n",
       "      <td>11691</td>\n",
       "      <td>2692</td>\n",
       "      <td>10947</td>\n",
       "    </tr>\n",
       "    <tr>\n",
       "      <th>3</th>\n",
       "      <td>389801</td>\n",
       "      <td>75369</td>\n",
       "      <td>359488</td>\n",
       "    </tr>\n",
       "    <tr>\n",
       "      <th>4</th>\n",
       "      <td>3163749</td>\n",
       "      <td>595637</td>\n",
       "      <td>3006702</td>\n",
       "    </tr>\n",
       "    <tr>\n",
       "      <th>5</th>\n",
       "      <td>48728</td>\n",
       "      <td>11468</td>\n",
       "      <td>39389</td>\n",
       "    </tr>\n",
       "    <tr>\n",
       "      <th>6</th>\n",
       "      <td>86247</td>\n",
       "      <td>14889</td>\n",
       "      <td>82722</td>\n",
       "    </tr>\n",
       "    <tr>\n",
       "      <th>7</th>\n",
       "      <td>836302</td>\n",
       "      <td>278429</td>\n",
       "      <td>786581</td>\n",
       "    </tr>\n",
       "    <tr>\n",
       "      <th>8</th>\n",
       "      <td>32714</td>\n",
       "      <td>6067</td>\n",
       "      <td>27989</td>\n",
       "    </tr>\n",
       "    <tr>\n",
       "      <th>9</th>\n",
       "      <td>282124</td>\n",
       "      <td>42960</td>\n",
       "      <td>262472</td>\n",
       "    </tr>\n",
       "    <tr>\n",
       "      <th>10</th>\n",
       "      <td>11043</td>\n",
       "      <td>3621</td>\n",
       "      <td>11342</td>\n",
       "    </tr>\n",
       "    <tr>\n",
       "      <th>11</th>\n",
       "      <td>139282</td>\n",
       "      <td>33075</td>\n",
       "      <td>132367</td>\n",
       "    </tr>\n",
       "    <tr>\n",
       "      <th>12</th>\n",
       "      <td>241950</td>\n",
       "      <td>23562</td>\n",
       "      <td>220597</td>\n",
       "    </tr>\n",
       "    <tr>\n",
       "      <th>13</th>\n",
       "      <td>608813</td>\n",
       "      <td>115243</td>\n",
       "      <td>563962</td>\n",
       "    </tr>\n",
       "    <tr>\n",
       "      <th>14</th>\n",
       "      <td>217238</td>\n",
       "      <td>65993</td>\n",
       "      <td>205848</td>\n",
       "    </tr>\n",
       "    <tr>\n",
       "      <th>15</th>\n",
       "      <td>352586</td>\n",
       "      <td>53810</td>\n",
       "      <td>325691</td>\n",
       "    </tr>\n",
       "    <tr>\n",
       "      <th>16</th>\n",
       "      <td>1792215</td>\n",
       "      <td>363291</td>\n",
       "      <td>1698894</td>\n",
       "    </tr>\n",
       "    <tr>\n",
       "      <th>17</th>\n",
       "      <td>229089</td>\n",
       "      <td>60368</td>\n",
       "      <td>209932</td>\n",
       "    </tr>\n",
       "    <tr>\n",
       "      <th>18</th>\n",
       "      <td>152453</td>\n",
       "      <td>21829</td>\n",
       "      <td>142813</td>\n",
       "    </tr>\n",
       "    <tr>\n",
       "      <th>19</th>\n",
       "      <td>817997</td>\n",
       "      <td>407946</td>\n",
       "      <td>817388</td>\n",
       "    </tr>\n",
       "    <tr>\n",
       "      <th>20</th>\n",
       "      <td>336307</td>\n",
       "      <td>74569</td>\n",
       "      <td>317443</td>\n",
       "    </tr>\n",
       "    <tr>\n",
       "      <th>21</th>\n",
       "      <td>24887</td>\n",
       "      <td>5432</td>\n",
       "      <td>24497</td>\n",
       "    </tr>\n",
       "  </tbody>\n",
       "</table>\n",
       "</div>"
      ],
      "text/plain": [
       "wealth_profile     high     low   middle\n",
       "department_id                           \n",
       "1                707054  145742   653232\n",
       "2                 11691    2692    10947\n",
       "3                389801   75369   359488\n",
       "4               3163749  595637  3006702\n",
       "5                 48728   11468    39389\n",
       "6                 86247   14889    82722\n",
       "7                836302  278429   786581\n",
       "8                 32714    6067    27989\n",
       "9                282124   42960   262472\n",
       "10                11043    3621    11342\n",
       "11               139282   33075   132367\n",
       "12               241950   23562   220597\n",
       "13               608813  115243   563962\n",
       "14               217238   65993   205848\n",
       "15               352586   53810   325691\n",
       "16              1792215  363291  1698894\n",
       "17               229089   60368   209932\n",
       "18               152453   21829   142813\n",
       "19               817997  407946   817388\n",
       "20               336307   74569   317443\n",
       "21                24887    5432    24497"
      ]
     },
     "execution_count": 97,
     "metadata": {},
     "output_type": "execute_result"
    }
   ],
   "source": [
    "crosstab_wealth_departments = pd.crosstab(ords_prods_cust['department_id'], ords_prods_cust['wealth_profile'], dropna = False)\n",
    "crosstab_wealth_departments"
   ]
  },
  {
   "cell_type": "code",
   "execution_count": 142,
   "id": "bf181fd2",
   "metadata": {},
   "outputs": [
    {
     "data": {
      "image/png": "[encoded data removed]",
      "text/plain": [
       "<Figure size 640x480 with 1 Axes>"
      ]
     },
     "metadata": {},
     "output_type": "display_data"
    }
   ],
   "source": [
    "bar_wealth_departments = crosstab_wealth_departments.plot(kind = 'bar', stacked = True, color = ['mediumblue', 'cornflowerblue','slategrey'])"
   ]
  },
  {
   "cell_type": "markdown",
   "id": "89007265",
   "metadata": {},
   "source": [
    "In all wealth groups, the most favourite articles are alcohol products, followed by household and deli products.\n",
    "\n",
    "Personal care and bakery articles sell least well among all age groups."
   ]
  },
  {
   "cell_type": "code",
   "execution_count": 143,
   "id": "77d34c93",
   "metadata": {},
   "outputs": [],
   "source": [
    "# exporting the chart\n",
    "bar_wealth_departments.figure.savefig(os.path.join(path, '04_Analysis','Vizualizations', '4.10_bar_wealth_departments.png'))"
   ]
  },
  {
   "cell_type": "markdown",
   "id": "5022d45f",
   "metadata": {},
   "source": [
    "### 8.3 Observations on different nutrition groups"
   ]
  },
  {
   "cell_type": "code",
   "execution_count": 100,
   "id": "eab90f2f",
   "metadata": {},
   "outputs": [
    {
     "data": {
      "text/html": [
       "<div>\n",
       "<style scoped>\n",
       "    .dataframe tbody tr th:only-of-type {\n",
       "        vertical-align: middle;\n",
       "    }\n",
       "\n",
       "    .dataframe tbody tr th {\n",
       "        vertical-align: top;\n",
       "    }\n",
       "\n",
       "    .dataframe thead th {\n",
       "        text-align: right;\n",
       "    }\n",
       "</style>\n",
       "<table border=\"1\" class=\"dataframe\">\n",
       "  <thead>\n",
       "    <tr style=\"text-align: right;\">\n",
       "      <th>veggy_profile</th>\n",
       "      <th>no vegetarian</th>\n",
       "      <th>vegetarian</th>\n",
       "    </tr>\n",
       "    <tr>\n",
       "      <th>region</th>\n",
       "      <th></th>\n",
       "      <th></th>\n",
       "    </tr>\n",
       "  </thead>\n",
       "  <tbody>\n",
       "    <tr>\n",
       "      <th>Region 1 (Northeast)</th>\n",
       "      <td>85730</td>\n",
       "      <td>3941751</td>\n",
       "    </tr>\n",
       "    <tr>\n",
       "      <th>Region 2 (Midwest)</th>\n",
       "      <td>113210</td>\n",
       "      <td>5212094</td>\n",
       "    </tr>\n",
       "    <tr>\n",
       "      <th>Region 3 (South)</th>\n",
       "      <td>161280</td>\n",
       "      <td>7425798</td>\n",
       "    </tr>\n",
       "    <tr>\n",
       "      <th>Region 4 (West)</th>\n",
       "      <td>125889</td>\n",
       "      <td>5718806</td>\n",
       "    </tr>\n",
       "  </tbody>\n",
       "</table>\n",
       "</div>"
      ],
      "text/plain": [
       "veggy_profile         no vegetarian  vegetarian\n",
       "region                                         \n",
       "Region 1 (Northeast)          85730     3941751\n",
       "Region 2 (Midwest)           113210     5212094\n",
       "Region 3 (South)             161280     7425798\n",
       "Region 4 (West)              125889     5718806"
      ]
     },
     "execution_count": 100,
     "metadata": {},
     "output_type": "execute_result"
    }
   ],
   "source": [
    "crosstab_veggy_region = pd.crosstab(ords_prods_cust['region'], ords_prods_cust['veggy_profile'], dropna = False)\n",
    "crosstab_veggy_region"
   ]
  },
  {
   "cell_type": "code",
   "execution_count": 116,
   "id": "cf7d2517",
   "metadata": {
    "scrolled": true
   },
   "outputs": [
    {
     "data": {
      "image/png": "[encoded data removed]",
      "text/plain": [
       "<Figure size 640x480 with 1 Axes>"
      ]
     },
     "metadata": {},
     "output_type": "display_data"
    }
   ],
   "source": [
    "bar_veggy_regions = crosstab_veggy_region.plot(kind = 'bar', stacked = False, color = ['thistle', 'mediumslateblue'])"
   ]
  },
  {
   "cell_type": "markdown",
   "id": "5494dbe1",
   "metadata": {},
   "source": [
    "Overall, there are are more vegetarians than non-vegetarians in all regions. This data might however be biased as probably all the meat-eaters buy their meat at instacart. "
   ]
  },
  {
   "cell_type": "code",
   "execution_count": 137,
   "id": "5b58159a",
   "metadata": {},
   "outputs": [],
   "source": [
    "# exporting the chart\n",
    "bar_veggy_regions.figure.savefig(os.path.join(path, '04_Analysis','Vizualizations', '4.10_bar_veggy_regions.png'))"
   ]
  },
  {
   "cell_type": "code",
   "execution_count": 113,
   "id": "d98f52c6",
   "metadata": {},
   "outputs": [
    {
     "data": {
      "text/html": [
       "<div>\n",
       "<style scoped>\n",
       "    .dataframe tbody tr th:only-of-type {\n",
       "        vertical-align: middle;\n",
       "    }\n",
       "\n",
       "    .dataframe tbody tr th {\n",
       "        vertical-align: top;\n",
       "    }\n",
       "\n",
       "    .dataframe thead th {\n",
       "        text-align: right;\n",
       "    }\n",
       "</style>\n",
       "<table border=\"1\" class=\"dataframe\">\n",
       "  <thead>\n",
       "    <tr style=\"text-align: right;\">\n",
       "      <th>veggy_profile</th>\n",
       "      <th>no vegetarian</th>\n",
       "      <th>vegetarian</th>\n",
       "    </tr>\n",
       "    <tr>\n",
       "      <th>department_id</th>\n",
       "      <th></th>\n",
       "      <th></th>\n",
       "    </tr>\n",
       "  </thead>\n",
       "  <tbody>\n",
       "    <tr>\n",
       "      <th>1</th>\n",
       "      <td>0</td>\n",
       "      <td>1506028</td>\n",
       "    </tr>\n",
       "    <tr>\n",
       "      <th>2</th>\n",
       "      <td>0</td>\n",
       "      <td>25330</td>\n",
       "    </tr>\n",
       "    <tr>\n",
       "      <th>3</th>\n",
       "      <td>0</td>\n",
       "      <td>824658</td>\n",
       "    </tr>\n",
       "    <tr>\n",
       "      <th>4</th>\n",
       "      <td>0</td>\n",
       "      <td>6766088</td>\n",
       "    </tr>\n",
       "    <tr>\n",
       "      <th>5</th>\n",
       "      <td>0</td>\n",
       "      <td>99585</td>\n",
       "    </tr>\n",
       "    <tr>\n",
       "      <th>6</th>\n",
       "      <td>0</td>\n",
       "      <td>183858</td>\n",
       "    </tr>\n",
       "    <tr>\n",
       "      <th>7</th>\n",
       "      <td>0</td>\n",
       "      <td>1901312</td>\n",
       "    </tr>\n",
       "    <tr>\n",
       "      <th>8</th>\n",
       "      <td>0</td>\n",
       "      <td>66770</td>\n",
       "    </tr>\n",
       "    <tr>\n",
       "      <th>9</th>\n",
       "      <td>0</td>\n",
       "      <td>587556</td>\n",
       "    </tr>\n",
       "    <tr>\n",
       "      <th>10</th>\n",
       "      <td>0</td>\n",
       "      <td>26006</td>\n",
       "    </tr>\n",
       "    <tr>\n",
       "      <th>11</th>\n",
       "      <td>0</td>\n",
       "      <td>304724</td>\n",
       "    </tr>\n",
       "    <tr>\n",
       "      <th>12</th>\n",
       "      <td>486109</td>\n",
       "      <td>0</td>\n",
       "    </tr>\n",
       "    <tr>\n",
       "      <th>13</th>\n",
       "      <td>0</td>\n",
       "      <td>1288018</td>\n",
       "    </tr>\n",
       "    <tr>\n",
       "      <th>14</th>\n",
       "      <td>0</td>\n",
       "      <td>489079</td>\n",
       "    </tr>\n",
       "    <tr>\n",
       "      <th>15</th>\n",
       "      <td>0</td>\n",
       "      <td>732087</td>\n",
       "    </tr>\n",
       "    <tr>\n",
       "      <th>16</th>\n",
       "      <td>0</td>\n",
       "      <td>3854400</td>\n",
       "    </tr>\n",
       "    <tr>\n",
       "      <th>17</th>\n",
       "      <td>0</td>\n",
       "      <td>499389</td>\n",
       "    </tr>\n",
       "    <tr>\n",
       "      <th>18</th>\n",
       "      <td>0</td>\n",
       "      <td>317095</td>\n",
       "    </tr>\n",
       "    <tr>\n",
       "      <th>19</th>\n",
       "      <td>0</td>\n",
       "      <td>2043331</td>\n",
       "    </tr>\n",
       "    <tr>\n",
       "      <th>20</th>\n",
       "      <td>0</td>\n",
       "      <td>728319</td>\n",
       "    </tr>\n",
       "    <tr>\n",
       "      <th>21</th>\n",
       "      <td>0</td>\n",
       "      <td>54816</td>\n",
       "    </tr>\n",
       "  </tbody>\n",
       "</table>\n",
       "</div>"
      ],
      "text/plain": [
       "veggy_profile  no vegetarian  vegetarian\n",
       "department_id                           \n",
       "1                          0     1506028\n",
       "2                          0       25330\n",
       "3                          0      824658\n",
       "4                          0     6766088\n",
       "5                          0       99585\n",
       "6                          0      183858\n",
       "7                          0     1901312\n",
       "8                          0       66770\n",
       "9                          0      587556\n",
       "10                         0       26006\n",
       "11                         0      304724\n",
       "12                    486109           0\n",
       "13                         0     1288018\n",
       "14                         0      489079\n",
       "15                         0      732087\n",
       "16                         0     3854400\n",
       "17                         0      499389\n",
       "18                         0      317095\n",
       "19                         0     2043331\n",
       "20                         0      728319\n",
       "21                         0       54816"
      ]
     },
     "execution_count": 113,
     "metadata": {},
     "output_type": "execute_result"
    }
   ],
   "source": [
    "crosstab_veggy_departments = pd.crosstab(ords_prods_cust['department_id'], ords_prods_cust['veggy_profile'], dropna = False)\n",
    "crosstab_veggy_departments"
   ]
  },
  {
   "cell_type": "code",
   "execution_count": 115,
   "id": "192be053",
   "metadata": {
    "scrolled": true
   },
   "outputs": [
    {
     "data": {
      "image/png": "[encoded data removed]",
      "text/plain": [
       "<Figure size 640x480 with 1 Axes>"
      ]
     },
     "metadata": {},
     "output_type": "display_data"
    }
   ],
   "source": [
    "bar_veggy_departments = crosstab_veggy_departments.plot(kind = 'bar', stacked = True, color = ['thistle', 'mediumslateblue'])"
   ]
  },
  {
   "cell_type": "markdown",
   "id": "000247d2",
   "metadata": {},
   "source": [
    "As expected, only the meat-eaters buy articles from department with id 12 (meat and seafood). For vegetarians, alcoholic products and household products are the bestsellers."
   ]
  },
  {
   "cell_type": "code",
   "execution_count": 138,
   "id": "f4b8b460",
   "metadata": {},
   "outputs": [],
   "source": [
    "# exporting the chart\n",
    "bar_veggy_departments.figure.savefig(os.path.join(path, '04_Analysis','Vizualizations', '4.10_bar_veggy_departments.png'))"
   ]
  },
  {
   "cell_type": "markdown",
   "id": "5cbf8f6b",
   "metadata": {},
   "source": [
    "### 8.4 Observations based on marital status"
   ]
  },
  {
   "cell_type": "code",
   "execution_count": 117,
   "id": "25d80e74",
   "metadata": {},
   "outputs": [
    {
     "data": {
      "text/html": [
       "<div>\n",
       "<style scoped>\n",
       "    .dataframe tbody tr th:only-of-type {\n",
       "        vertical-align: middle;\n",
       "    }\n",
       "\n",
       "    .dataframe tbody tr th {\n",
       "        vertical-align: top;\n",
       "    }\n",
       "\n",
       "    .dataframe thead th {\n",
       "        text-align: right;\n",
       "    }\n",
       "</style>\n",
       "<table border=\"1\" class=\"dataframe\">\n",
       "  <thead>\n",
       "    <tr style=\"text-align: right;\">\n",
       "      <th>family_status_profile</th>\n",
       "      <th>parent</th>\n",
       "      <th>single_adult</th>\n",
       "    </tr>\n",
       "    <tr>\n",
       "      <th>region</th>\n",
       "      <th></th>\n",
       "      <th></th>\n",
       "    </tr>\n",
       "  </thead>\n",
       "  <tbody>\n",
       "    <tr>\n",
       "      <th>Region 1 (Northeast)</th>\n",
       "      <td>3034962</td>\n",
       "      <td>992519</td>\n",
       "    </tr>\n",
       "    <tr>\n",
       "      <th>Region 2 (Midwest)</th>\n",
       "      <td>3984405</td>\n",
       "      <td>1340899</td>\n",
       "    </tr>\n",
       "    <tr>\n",
       "      <th>Region 3 (South)</th>\n",
       "      <td>5684024</td>\n",
       "      <td>1903054</td>\n",
       "    </tr>\n",
       "    <tr>\n",
       "      <th>Region 4 (West)</th>\n",
       "      <td>4382495</td>\n",
       "      <td>1462200</td>\n",
       "    </tr>\n",
       "  </tbody>\n",
       "</table>\n",
       "</div>"
      ],
      "text/plain": [
       "family_status_profile   parent  single_adult\n",
       "region                                      \n",
       "Region 1 (Northeast)   3034962        992519\n",
       "Region 2 (Midwest)     3984405       1340899\n",
       "Region 3 (South)       5684024       1903054\n",
       "Region 4 (West)        4382495       1462200"
      ]
     },
     "execution_count": 117,
     "metadata": {},
     "output_type": "execute_result"
    }
   ],
   "source": [
    "crosstab_marital_region = pd.crosstab(ords_prods_cust['region'], ords_prods_cust['family_status_profile'], dropna = False)\n",
    "crosstab_marital_region"
   ]
  },
  {
   "cell_type": "code",
   "execution_count": 119,
   "id": "588e77a3",
   "metadata": {},
   "outputs": [
    {
     "data": {
      "image/png": "[encoded data removed]",
      "text/plain": [
       "<Figure size 640x480 with 1 Axes>"
      ]
     },
     "metadata": {},
     "output_type": "display_data"
    }
   ],
   "source": [
    "bar_marital_regions = crosstab_marital_region.plot(kind = 'bar', stacked = False, color = ['darkorange', 'gold'])"
   ]
  },
  {
   "cell_type": "markdown",
   "id": "3b11e2dd",
   "metadata": {},
   "source": [
    "Most parents and singles live in the South of US. "
   ]
  },
  {
   "cell_type": "code",
   "execution_count": 140,
   "id": "1b6b1f40",
   "metadata": {},
   "outputs": [],
   "source": [
    "# exporting the chart\n",
    "bar_marital_regions.figure.savefig(os.path.join(path, '04_Analysis','Vizualizations', '4.10_bar_marital_regions.png'))"
   ]
  },
  {
   "cell_type": "code",
   "execution_count": 139,
   "id": "07f19722",
   "metadata": {},
   "outputs": [
    {
     "data": {
      "text/html": [
       "<div>\n",
       "<style scoped>\n",
       "    .dataframe tbody tr th:only-of-type {\n",
       "        vertical-align: middle;\n",
       "    }\n",
       "\n",
       "    .dataframe tbody tr th {\n",
       "        vertical-align: top;\n",
       "    }\n",
       "\n",
       "    .dataframe thead th {\n",
       "        text-align: right;\n",
       "    }\n",
       "</style>\n",
       "<table border=\"1\" class=\"dataframe\">\n",
       "  <thead>\n",
       "    <tr style=\"text-align: right;\">\n",
       "      <th>family_status_profile</th>\n",
       "      <th>parent</th>\n",
       "      <th>single_adult</th>\n",
       "    </tr>\n",
       "    <tr>\n",
       "      <th>department_id</th>\n",
       "      <th></th>\n",
       "      <th></th>\n",
       "    </tr>\n",
       "  </thead>\n",
       "  <tbody>\n",
       "    <tr>\n",
       "      <th>1</th>\n",
       "      <td>1130751</td>\n",
       "      <td>375277</td>\n",
       "    </tr>\n",
       "    <tr>\n",
       "      <th>2</th>\n",
       "      <td>18851</td>\n",
       "      <td>6479</td>\n",
       "    </tr>\n",
       "    <tr>\n",
       "      <th>3</th>\n",
       "      <td>617813</td>\n",
       "      <td>206845</td>\n",
       "    </tr>\n",
       "    <tr>\n",
       "      <th>4</th>\n",
       "      <td>5067957</td>\n",
       "      <td>1698131</td>\n",
       "    </tr>\n",
       "    <tr>\n",
       "      <th>5</th>\n",
       "      <td>73743</td>\n",
       "      <td>25842</td>\n",
       "    </tr>\n",
       "    <tr>\n",
       "      <th>6</th>\n",
       "      <td>137250</td>\n",
       "      <td>46608</td>\n",
       "    </tr>\n",
       "    <tr>\n",
       "      <th>7</th>\n",
       "      <td>1422962</td>\n",
       "      <td>478350</td>\n",
       "    </tr>\n",
       "    <tr>\n",
       "      <th>8</th>\n",
       "      <td>49915</td>\n",
       "      <td>16855</td>\n",
       "    </tr>\n",
       "    <tr>\n",
       "      <th>9</th>\n",
       "      <td>441543</td>\n",
       "      <td>146013</td>\n",
       "    </tr>\n",
       "    <tr>\n",
       "      <th>10</th>\n",
       "      <td>19806</td>\n",
       "      <td>6200</td>\n",
       "    </tr>\n",
       "    <tr>\n",
       "      <th>11</th>\n",
       "      <td>228218</td>\n",
       "      <td>76506</td>\n",
       "    </tr>\n",
       "    <tr>\n",
       "      <th>12</th>\n",
       "      <td>367212</td>\n",
       "      <td>118897</td>\n",
       "    </tr>\n",
       "    <tr>\n",
       "      <th>13</th>\n",
       "      <td>967113</td>\n",
       "      <td>320905</td>\n",
       "    </tr>\n",
       "    <tr>\n",
       "      <th>14</th>\n",
       "      <td>367842</td>\n",
       "      <td>121237</td>\n",
       "    </tr>\n",
       "    <tr>\n",
       "      <th>15</th>\n",
       "      <td>550405</td>\n",
       "      <td>181682</td>\n",
       "    </tr>\n",
       "    <tr>\n",
       "      <th>16</th>\n",
       "      <td>2890550</td>\n",
       "      <td>963850</td>\n",
       "    </tr>\n",
       "    <tr>\n",
       "      <th>17</th>\n",
       "      <td>377126</td>\n",
       "      <td>122263</td>\n",
       "    </tr>\n",
       "    <tr>\n",
       "      <th>18</th>\n",
       "      <td>237639</td>\n",
       "      <td>79456</td>\n",
       "    </tr>\n",
       "    <tr>\n",
       "      <th>19</th>\n",
       "      <td>1533819</td>\n",
       "      <td>509512</td>\n",
       "    </tr>\n",
       "    <tr>\n",
       "      <th>20</th>\n",
       "      <td>544004</td>\n",
       "      <td>184315</td>\n",
       "    </tr>\n",
       "    <tr>\n",
       "      <th>21</th>\n",
       "      <td>41367</td>\n",
       "      <td>13449</td>\n",
       "    </tr>\n",
       "  </tbody>\n",
       "</table>\n",
       "</div>"
      ],
      "text/plain": [
       "family_status_profile   parent  single_adult\n",
       "department_id                               \n",
       "1                      1130751        375277\n",
       "2                        18851          6479\n",
       "3                       617813        206845\n",
       "4                      5067957       1698131\n",
       "5                        73743         25842\n",
       "6                       137250         46608\n",
       "7                      1422962        478350\n",
       "8                        49915         16855\n",
       "9                       441543        146013\n",
       "10                       19806          6200\n",
       "11                      228218         76506\n",
       "12                      367212        118897\n",
       "13                      967113        320905\n",
       "14                      367842        121237\n",
       "15                      550405        181682\n",
       "16                     2890550        963850\n",
       "17                      377126        122263\n",
       "18                      237639         79456\n",
       "19                     1533819        509512\n",
       "20                      544004        184315\n",
       "21                       41367         13449"
      ]
     },
     "execution_count": 139,
     "metadata": {},
     "output_type": "execute_result"
    }
   ],
   "source": [
    "crosstab_marital_departments = pd.crosstab(ords_prods_cust['department_id'], ords_prods_cust['family_status_profile'], dropna = False)\n",
    "crosstab_marital_departments"
   ]
  },
  {
   "cell_type": "code",
   "execution_count": 121,
   "id": "c2b38523",
   "metadata": {},
   "outputs": [
    {
     "data": {
      "image/png": "[encoded data removed]",
      "text/plain": [
       "<Figure size 640x480 with 1 Axes>"
      ]
     },
     "metadata": {},
     "output_type": "display_data"
    }
   ],
   "source": [
    "bar_marital_departments = crosstab_marital_departments.plot(kind = 'bar', stacked = True, color = ['darkorange', 'gold'])"
   ]
  },
  {
   "cell_type": "markdown",
   "id": "bff5c082",
   "metadata": {},
   "source": [
    "Independent of the family status, the most favourite articles are alcohol products, followed by household and deli products.\n",
    "\n",
    "Personal care and bakery articles sell least well among all age groups."
   ]
  },
  {
   "cell_type": "code",
   "execution_count": 141,
   "id": "af32addf",
   "metadata": {},
   "outputs": [],
   "source": [
    "# exporting the chart\n",
    "bar_marital_departments.figure.savefig(os.path.join(path, '04_Analysis','Vizualizations', '4.10_bar_marital_departments.png'))"
   ]
  },
  {
   "cell_type": "markdown",
   "id": "2e1931b7",
   "metadata": {},
   "source": [
    "### 8.5 Observations based on alcohol drinking status"
   ]
  },
  {
   "cell_type": "code",
   "execution_count": 123,
   "id": "35c5bc70",
   "metadata": {},
   "outputs": [
    {
     "data": {
      "text/html": [
       "<div>\n",
       "<style scoped>\n",
       "    .dataframe tbody tr th:only-of-type {\n",
       "        vertical-align: middle;\n",
       "    }\n",
       "\n",
       "    .dataframe tbody tr th {\n",
       "        vertical-align: top;\n",
       "    }\n",
       "\n",
       "    .dataframe thead th {\n",
       "        text-align: right;\n",
       "    }\n",
       "</style>\n",
       "<table border=\"1\" class=\"dataframe\">\n",
       "  <thead>\n",
       "    <tr style=\"text-align: right;\">\n",
       "      <th>alcohol_profile</th>\n",
       "      <th>alcohol drinker</th>\n",
       "      <th>no alcohol drinker</th>\n",
       "    </tr>\n",
       "    <tr>\n",
       "      <th>region</th>\n",
       "      <th></th>\n",
       "      <th></th>\n",
       "    </tr>\n",
       "  </thead>\n",
       "  <tbody>\n",
       "    <tr>\n",
       "      <th>Region 1 (Northeast)</th>\n",
       "      <td>17074</td>\n",
       "      <td>4010407</td>\n",
       "    </tr>\n",
       "    <tr>\n",
       "      <th>Region 2 (Midwest)</th>\n",
       "      <td>23648</td>\n",
       "      <td>5301656</td>\n",
       "    </tr>\n",
       "    <tr>\n",
       "      <th>Region 3 (South)</th>\n",
       "      <td>33396</td>\n",
       "      <td>7553682</td>\n",
       "    </tr>\n",
       "    <tr>\n",
       "      <th>Region 4 (West)</th>\n",
       "      <td>25467</td>\n",
       "      <td>5819228</td>\n",
       "    </tr>\n",
       "  </tbody>\n",
       "</table>\n",
       "</div>"
      ],
      "text/plain": [
       "alcohol_profile       alcohol drinker  no alcohol drinker\n",
       "region                                                   \n",
       "Region 1 (Northeast)            17074             4010407\n",
       "Region 2 (Midwest)              23648             5301656\n",
       "Region 3 (South)                33396             7553682\n",
       "Region 4 (West)                 25467             5819228"
      ]
     },
     "execution_count": 123,
     "metadata": {},
     "output_type": "execute_result"
    }
   ],
   "source": [
    "crosstab_alcohol_region = pd.crosstab(ords_prods_cust['region'], ords_prods_cust['alcohol_profile'], dropna = False)\n",
    "crosstab_alcohol_region"
   ]
  },
  {
   "cell_type": "code",
   "execution_count": 124,
   "id": "57ebe5d4",
   "metadata": {},
   "outputs": [
    {
     "data": {
      "image/png": "[encoded data removed]",
      "text/plain": [
       "<Figure size 640x480 with 1 Axes>"
      ]
     },
     "metadata": {},
     "output_type": "display_data"
    }
   ],
   "source": [
    "bar_alcohol_regions = crosstab_alcohol_region.plot(kind = 'bar', stacked = False, color = ['aquamarine', 'teal'])"
   ]
  },
  {
   "cell_type": "markdown",
   "id": "10527529",
   "metadata": {},
   "source": [
    "Most alcohol and non-alcohol drinkers live in the south of US."
   ]
  },
  {
   "cell_type": "code",
   "execution_count": 144,
   "id": "0ff1f0c3",
   "metadata": {},
   "outputs": [],
   "source": [
    "# exporting the chart\n",
    "bar_alcohol_regions.figure.savefig(os.path.join(path, '04_Analysis','Vizualizations', '4.10_bar_alcohol_regions.png'))"
   ]
  },
  {
   "cell_type": "code",
   "execution_count": 125,
   "id": "ad3d1335",
   "metadata": {},
   "outputs": [
    {
     "data": {
      "text/html": [
       "<div>\n",
       "<style scoped>\n",
       "    .dataframe tbody tr th:only-of-type {\n",
       "        vertical-align: middle;\n",
       "    }\n",
       "\n",
       "    .dataframe tbody tr th {\n",
       "        vertical-align: top;\n",
       "    }\n",
       "\n",
       "    .dataframe thead th {\n",
       "        text-align: right;\n",
       "    }\n",
       "</style>\n",
       "<table border=\"1\" class=\"dataframe\">\n",
       "  <thead>\n",
       "    <tr style=\"text-align: right;\">\n",
       "      <th>alcohol_profile</th>\n",
       "      <th>alcohol drinker</th>\n",
       "      <th>no alcohol drinker</th>\n",
       "    </tr>\n",
       "    <tr>\n",
       "      <th>department_id</th>\n",
       "      <th></th>\n",
       "      <th></th>\n",
       "    </tr>\n",
       "  </thead>\n",
       "  <tbody>\n",
       "    <tr>\n",
       "      <th>1</th>\n",
       "      <td>0</td>\n",
       "      <td>1506028</td>\n",
       "    </tr>\n",
       "    <tr>\n",
       "      <th>2</th>\n",
       "      <td>0</td>\n",
       "      <td>25330</td>\n",
       "    </tr>\n",
       "    <tr>\n",
       "      <th>3</th>\n",
       "      <td>0</td>\n",
       "      <td>824658</td>\n",
       "    </tr>\n",
       "    <tr>\n",
       "      <th>4</th>\n",
       "      <td>0</td>\n",
       "      <td>6766088</td>\n",
       "    </tr>\n",
       "    <tr>\n",
       "      <th>5</th>\n",
       "      <td>99585</td>\n",
       "      <td>0</td>\n",
       "    </tr>\n",
       "    <tr>\n",
       "      <th>6</th>\n",
       "      <td>0</td>\n",
       "      <td>183858</td>\n",
       "    </tr>\n",
       "    <tr>\n",
       "      <th>7</th>\n",
       "      <td>0</td>\n",
       "      <td>1901312</td>\n",
       "    </tr>\n",
       "    <tr>\n",
       "      <th>8</th>\n",
       "      <td>0</td>\n",
       "      <td>66770</td>\n",
       "    </tr>\n",
       "    <tr>\n",
       "      <th>9</th>\n",
       "      <td>0</td>\n",
       "      <td>587556</td>\n",
       "    </tr>\n",
       "    <tr>\n",
       "      <th>10</th>\n",
       "      <td>0</td>\n",
       "      <td>26006</td>\n",
       "    </tr>\n",
       "    <tr>\n",
       "      <th>11</th>\n",
       "      <td>0</td>\n",
       "      <td>304724</td>\n",
       "    </tr>\n",
       "    <tr>\n",
       "      <th>12</th>\n",
       "      <td>0</td>\n",
       "      <td>486109</td>\n",
       "    </tr>\n",
       "    <tr>\n",
       "      <th>13</th>\n",
       "      <td>0</td>\n",
       "      <td>1288018</td>\n",
       "    </tr>\n",
       "    <tr>\n",
       "      <th>14</th>\n",
       "      <td>0</td>\n",
       "      <td>489079</td>\n",
       "    </tr>\n",
       "    <tr>\n",
       "      <th>15</th>\n",
       "      <td>0</td>\n",
       "      <td>732087</td>\n",
       "    </tr>\n",
       "    <tr>\n",
       "      <th>16</th>\n",
       "      <td>0</td>\n",
       "      <td>3854400</td>\n",
       "    </tr>\n",
       "    <tr>\n",
       "      <th>17</th>\n",
       "      <td>0</td>\n",
       "      <td>499389</td>\n",
       "    </tr>\n",
       "    <tr>\n",
       "      <th>18</th>\n",
       "      <td>0</td>\n",
       "      <td>317095</td>\n",
       "    </tr>\n",
       "    <tr>\n",
       "      <th>19</th>\n",
       "      <td>0</td>\n",
       "      <td>2043331</td>\n",
       "    </tr>\n",
       "    <tr>\n",
       "      <th>20</th>\n",
       "      <td>0</td>\n",
       "      <td>728319</td>\n",
       "    </tr>\n",
       "    <tr>\n",
       "      <th>21</th>\n",
       "      <td>0</td>\n",
       "      <td>54816</td>\n",
       "    </tr>\n",
       "  </tbody>\n",
       "</table>\n",
       "</div>"
      ],
      "text/plain": [
       "alcohol_profile  alcohol drinker  no alcohol drinker\n",
       "department_id                                       \n",
       "1                              0             1506028\n",
       "2                              0               25330\n",
       "3                              0              824658\n",
       "4                              0             6766088\n",
       "5                          99585                   0\n",
       "6                              0              183858\n",
       "7                              0             1901312\n",
       "8                              0               66770\n",
       "9                              0              587556\n",
       "10                             0               26006\n",
       "11                             0              304724\n",
       "12                             0              486109\n",
       "13                             0             1288018\n",
       "14                             0              489079\n",
       "15                             0              732087\n",
       "16                             0             3854400\n",
       "17                             0              499389\n",
       "18                             0              317095\n",
       "19                             0             2043331\n",
       "20                             0              728319\n",
       "21                             0               54816"
      ]
     },
     "execution_count": 125,
     "metadata": {},
     "output_type": "execute_result"
    }
   ],
   "source": [
    "crosstab_alcohol_departments = pd.crosstab(ords_prods_cust['department_id'], ords_prods_cust['alcohol_profile'], dropna = False)\n",
    "crosstab_alcohol_departments"
   ]
  },
  {
   "cell_type": "code",
   "execution_count": 126,
   "id": "b6d8a90b",
   "metadata": {},
   "outputs": [
    {
     "data": {
      "image/png": "[encoded data removed]",
      "text/plain": [
       "<Figure size 640x480 with 1 Axes>"
      ]
     },
     "metadata": {},
     "output_type": "display_data"
    }
   ],
   "source": [
    "bar_alcohol_departments = crosstab_alcohol_departments.plot(kind = 'bar', stacked = True, color = ['aquamarine', 'teal'])"
   ]
  },
  {
   "cell_type": "markdown",
   "id": "c5dd9834",
   "metadata": {},
   "source": [
    "Independent of the alcohol-drinker status, the most favourite articles are alcohol products, followed by household and deli products.\n",
    "\n",
    "Personal care and bakery articles sell least well among all age groups."
   ]
  },
  {
   "cell_type": "code",
   "execution_count": 145,
   "id": "9e611d8d",
   "metadata": {},
   "outputs": [],
   "source": [
    "# exporting the chart\n",
    "bar_alcohol_departments.figure.savefig(os.path.join(path, '04_Analysis','Vizualizations', '4.10_bar_alcohol_departments.png'))"
   ]
  },
  {
   "cell_type": "markdown",
   "id": "69fe8544",
   "metadata": {},
   "source": [
    "### 8.6 Observations based on pet owner status"
   ]
  },
  {
   "cell_type": "code",
   "execution_count": 128,
   "id": "27694727",
   "metadata": {},
   "outputs": [
    {
     "data": {
      "text/html": [
       "<div>\n",
       "<style scoped>\n",
       "    .dataframe tbody tr th:only-of-type {\n",
       "        vertical-align: middle;\n",
       "    }\n",
       "\n",
       "    .dataframe tbody tr th {\n",
       "        vertical-align: top;\n",
       "    }\n",
       "\n",
       "    .dataframe thead th {\n",
       "        text-align: right;\n",
       "    }\n",
       "</style>\n",
       "<table border=\"1\" class=\"dataframe\">\n",
       "  <thead>\n",
       "    <tr style=\"text-align: right;\">\n",
       "      <th>pet_owner_profile</th>\n",
       "      <th>no_pet_owner</th>\n",
       "      <th>pet_owner</th>\n",
       "    </tr>\n",
       "    <tr>\n",
       "      <th>region</th>\n",
       "      <th></th>\n",
       "      <th></th>\n",
       "    </tr>\n",
       "  </thead>\n",
       "  <tbody>\n",
       "    <tr>\n",
       "      <th>Region 1 (Northeast)</th>\n",
       "      <td>4014399</td>\n",
       "      <td>13082</td>\n",
       "    </tr>\n",
       "    <tr>\n",
       "      <th>Region 2 (Midwest)</th>\n",
       "      <td>5310013</td>\n",
       "      <td>15291</td>\n",
       "    </tr>\n",
       "    <tr>\n",
       "      <th>Region 3 (South)</th>\n",
       "      <td>7565741</td>\n",
       "      <td>21337</td>\n",
       "    </tr>\n",
       "    <tr>\n",
       "      <th>Region 4 (West)</th>\n",
       "      <td>5827635</td>\n",
       "      <td>17060</td>\n",
       "    </tr>\n",
       "  </tbody>\n",
       "</table>\n",
       "</div>"
      ],
      "text/plain": [
       "pet_owner_profile     no_pet_owner  pet_owner\n",
       "region                                       \n",
       "Region 1 (Northeast)       4014399      13082\n",
       "Region 2 (Midwest)         5310013      15291\n",
       "Region 3 (South)           7565741      21337\n",
       "Region 4 (West)            5827635      17060"
      ]
     },
     "execution_count": 128,
     "metadata": {},
     "output_type": "execute_result"
    }
   ],
   "source": [
    "crosstab_petowner_region = pd.crosstab(ords_prods_cust['region'], ords_prods_cust['pet_owner_profile'], dropna = False)\n",
    "crosstab_petowner_region"
   ]
  },
  {
   "cell_type": "code",
   "execution_count": 129,
   "id": "2330a1d0",
   "metadata": {},
   "outputs": [
    {
     "data": {
      "image/png": "[encoded data removed]",
      "text/plain": [
       "<Figure size 640x480 with 1 Axes>"
      ]
     },
     "metadata": {},
     "output_type": "display_data"
    }
   ],
   "source": [
    "bar_petowner_regions = crosstab_petowner_region.plot(kind = 'bar', stacked = False, color = ['maroon', 'tomato'])"
   ]
  },
  {
   "cell_type": "markdown",
   "id": "d5b67ef7",
   "metadata": {},
   "source": [
    "Most pet owners and no pet owners live in the south of US."
   ]
  },
  {
   "cell_type": "code",
   "execution_count": 147,
   "id": "677a57b1",
   "metadata": {},
   "outputs": [],
   "source": [
    "# exporting the chart\n",
    "bar_petowner_regions.figure.savefig(os.path.join(path, '04_Analysis','Vizualizations', '4.10_bar_petowner_regions.png'))"
   ]
  },
  {
   "cell_type": "code",
   "execution_count": 146,
   "id": "1ec5697d",
   "metadata": {},
   "outputs": [
    {
     "data": {
      "text/html": [
       "<div>\n",
       "<style scoped>\n",
       "    .dataframe tbody tr th:only-of-type {\n",
       "        vertical-align: middle;\n",
       "    }\n",
       "\n",
       "    .dataframe tbody tr th {\n",
       "        vertical-align: top;\n",
       "    }\n",
       "\n",
       "    .dataframe thead th {\n",
       "        text-align: right;\n",
       "    }\n",
       "</style>\n",
       "<table border=\"1\" class=\"dataframe\">\n",
       "  <thead>\n",
       "    <tr style=\"text-align: right;\">\n",
       "      <th>pet_owner_profile</th>\n",
       "      <th>no_pet_owner</th>\n",
       "      <th>pet_owner</th>\n",
       "    </tr>\n",
       "    <tr>\n",
       "      <th>department_id</th>\n",
       "      <th></th>\n",
       "      <th></th>\n",
       "    </tr>\n",
       "  </thead>\n",
       "  <tbody>\n",
       "    <tr>\n",
       "      <th>1</th>\n",
       "      <td>1506028</td>\n",
       "      <td>0</td>\n",
       "    </tr>\n",
       "    <tr>\n",
       "      <th>2</th>\n",
       "      <td>25330</td>\n",
       "      <td>0</td>\n",
       "    </tr>\n",
       "    <tr>\n",
       "      <th>3</th>\n",
       "      <td>824658</td>\n",
       "      <td>0</td>\n",
       "    </tr>\n",
       "    <tr>\n",
       "      <th>4</th>\n",
       "      <td>6766088</td>\n",
       "      <td>0</td>\n",
       "    </tr>\n",
       "    <tr>\n",
       "      <th>5</th>\n",
       "      <td>99585</td>\n",
       "      <td>0</td>\n",
       "    </tr>\n",
       "    <tr>\n",
       "      <th>6</th>\n",
       "      <td>183858</td>\n",
       "      <td>0</td>\n",
       "    </tr>\n",
       "    <tr>\n",
       "      <th>7</th>\n",
       "      <td>1901312</td>\n",
       "      <td>0</td>\n",
       "    </tr>\n",
       "    <tr>\n",
       "      <th>8</th>\n",
       "      <td>0</td>\n",
       "      <td>66770</td>\n",
       "    </tr>\n",
       "    <tr>\n",
       "      <th>9</th>\n",
       "      <td>587556</td>\n",
       "      <td>0</td>\n",
       "    </tr>\n",
       "    <tr>\n",
       "      <th>10</th>\n",
       "      <td>26006</td>\n",
       "      <td>0</td>\n",
       "    </tr>\n",
       "    <tr>\n",
       "      <th>11</th>\n",
       "      <td>304724</td>\n",
       "      <td>0</td>\n",
       "    </tr>\n",
       "    <tr>\n",
       "      <th>12</th>\n",
       "      <td>486109</td>\n",
       "      <td>0</td>\n",
       "    </tr>\n",
       "    <tr>\n",
       "      <th>13</th>\n",
       "      <td>1288018</td>\n",
       "      <td>0</td>\n",
       "    </tr>\n",
       "    <tr>\n",
       "      <th>14</th>\n",
       "      <td>489079</td>\n",
       "      <td>0</td>\n",
       "    </tr>\n",
       "    <tr>\n",
       "      <th>15</th>\n",
       "      <td>732087</td>\n",
       "      <td>0</td>\n",
       "    </tr>\n",
       "    <tr>\n",
       "      <th>16</th>\n",
       "      <td>3854400</td>\n",
       "      <td>0</td>\n",
       "    </tr>\n",
       "    <tr>\n",
       "      <th>17</th>\n",
       "      <td>499389</td>\n",
       "      <td>0</td>\n",
       "    </tr>\n",
       "    <tr>\n",
       "      <th>18</th>\n",
       "      <td>317095</td>\n",
       "      <td>0</td>\n",
       "    </tr>\n",
       "    <tr>\n",
       "      <th>19</th>\n",
       "      <td>2043331</td>\n",
       "      <td>0</td>\n",
       "    </tr>\n",
       "    <tr>\n",
       "      <th>20</th>\n",
       "      <td>728319</td>\n",
       "      <td>0</td>\n",
       "    </tr>\n",
       "    <tr>\n",
       "      <th>21</th>\n",
       "      <td>54816</td>\n",
       "      <td>0</td>\n",
       "    </tr>\n",
       "  </tbody>\n",
       "</table>\n",
       "</div>"
      ],
      "text/plain": [
       "pet_owner_profile  no_pet_owner  pet_owner\n",
       "department_id                             \n",
       "1                       1506028          0\n",
       "2                         25330          0\n",
       "3                        824658          0\n",
       "4                       6766088          0\n",
       "5                         99585          0\n",
       "6                        183858          0\n",
       "7                       1901312          0\n",
       "8                             0      66770\n",
       "9                        587556          0\n",
       "10                        26006          0\n",
       "11                       304724          0\n",
       "12                       486109          0\n",
       "13                      1288018          0\n",
       "14                       489079          0\n",
       "15                       732087          0\n",
       "16                      3854400          0\n",
       "17                       499389          0\n",
       "18                       317095          0\n",
       "19                      2043331          0\n",
       "20                       728319          0\n",
       "21                        54816          0"
      ]
     },
     "execution_count": 146,
     "metadata": {},
     "output_type": "execute_result"
    }
   ],
   "source": [
    "crosstab_petowner_departments = pd.crosstab(ords_prods_cust['department_id'], ords_prods_cust['pet_owner_profile'], dropna = False)\n",
    "crosstab_petowner_departments"
   ]
  },
  {
   "cell_type": "code",
   "execution_count": 131,
   "id": "28b88b75",
   "metadata": {},
   "outputs": [
    {
     "data": {
      "image/png": "[encoded data removed]",
      "text/plain": [
       "<Figure size 640x480 with 1 Axes>"
      ]
     },
     "metadata": {},
     "output_type": "display_data"
    }
   ],
   "source": [
    "bar_petowner_departments = crosstab_petowner_departments.plot(kind = 'bar', stacked = True, color = ['maroon', 'tomato'])"
   ]
  },
  {
   "cell_type": "markdown",
   "id": "ba69b9d3",
   "metadata": {},
   "source": [
    "Independent of the pet-owner status, the most favourite articles are alcohol products, followed by household and deli products.\n",
    "\n",
    "Personal care and bakery articles sell least well among all age groups."
   ]
  },
  {
   "cell_type": "code",
   "execution_count": 148,
   "id": "645c506d",
   "metadata": {},
   "outputs": [],
   "source": [
    "# exporting the chart\n",
    "bar_petowner_departments.figure.savefig(os.path.join(path, '04_Analysis','Vizualizations', '4.10_bar_petowner_departments.png'))"
   ]
  },
  {
   "cell_type": "code",
   "execution_count": 149,
   "id": "a1e8308b",
   "metadata": {},
   "outputs": [],
   "source": [
    "# Data Export: \n",
    "ords_prods_cust.to_pickle(os.path.join(path, '02_data','prepared_data', '4.10_task9.pkl'))"
   ]
  },
  {
   "cell_type": "markdown",
   "id": "fab9dd46",
   "metadata": {},
   "source": [
    "### 9. Additional analysis for final report:"
   ]
  },
  {
   "cell_type": "markdown",
   "id": "f690b01b",
   "metadata": {},
   "source": [
    "For keyquestion 4: "
   ]
  },
  {
   "cell_type": "code",
   "execution_count": 3,
   "id": "3478a65b",
   "metadata": {},
   "outputs": [],
   "source": [
    "ords_prods_cust = pd.read_pickle(os.path.join(path, '02_Data', 'prepared_data', '4.10_task9.pkl'))"
   ]
  },
  {
   "cell_type": "code",
   "execution_count": 6,
   "id": "c050b215",
   "metadata": {},
   "outputs": [],
   "source": [
    "# creating a new column for active users:\n",
    "\n",
    "result = []\n",
    "\n",
    "for value in ords_prods_cust[\"user_id\"]:\n",
    "    if value >= 1:\n",
    "        result.append('active_user')\n",
    "    else: \n",
    "        result.append('invalid')"
   ]
  },
  {
   "cell_type": "code",
   "execution_count": 7,
   "id": "9802452d",
   "metadata": {},
   "outputs": [],
   "source": [
    "# create new columns and assign the result - list\n",
    "ords_prods_cust['active_customer'] = result"
   ]
  },
  {
   "cell_type": "code",
   "execution_count": 8,
   "id": "6d0c0837",
   "metadata": {},
   "outputs": [
    {
     "data": {
      "text/plain": [
       "active_user    22784558\n",
       "Name: active_customer, dtype: int64"
      ]
     },
     "execution_count": 8,
     "metadata": {},
     "output_type": "execute_result"
    }
   ],
   "source": [
    "ords_prods_cust['active_customer'].value_counts()"
   ]
  },
  {
   "cell_type": "code",
   "execution_count": 10,
   "id": "c6ab4ec2",
   "metadata": {},
   "outputs": [
    {
     "data": {
      "text/html": [
       "<div>\n",
       "<style scoped>\n",
       "    .dataframe tbody tr th:only-of-type {\n",
       "        vertical-align: middle;\n",
       "    }\n",
       "\n",
       "    .dataframe tbody tr th {\n",
       "        vertical-align: top;\n",
       "    }\n",
       "\n",
       "    .dataframe thead th {\n",
       "        text-align: right;\n",
       "    }\n",
       "</style>\n",
       "<table border=\"1\" class=\"dataframe\">\n",
       "  <thead>\n",
       "    <tr style=\"text-align: right;\">\n",
       "      <th>active_customer</th>\n",
       "      <th>active_user</th>\n",
       "    </tr>\n",
       "    <tr>\n",
       "      <th>department_id</th>\n",
       "      <th></th>\n",
       "    </tr>\n",
       "  </thead>\n",
       "  <tbody>\n",
       "    <tr>\n",
       "      <th>1</th>\n",
       "      <td>1506028</td>\n",
       "    </tr>\n",
       "    <tr>\n",
       "      <th>2</th>\n",
       "      <td>25330</td>\n",
       "    </tr>\n",
       "    <tr>\n",
       "      <th>3</th>\n",
       "      <td>824658</td>\n",
       "    </tr>\n",
       "    <tr>\n",
       "      <th>4</th>\n",
       "      <td>6766088</td>\n",
       "    </tr>\n",
       "    <tr>\n",
       "      <th>5</th>\n",
       "      <td>99585</td>\n",
       "    </tr>\n",
       "    <tr>\n",
       "      <th>6</th>\n",
       "      <td>183858</td>\n",
       "    </tr>\n",
       "    <tr>\n",
       "      <th>7</th>\n",
       "      <td>1901312</td>\n",
       "    </tr>\n",
       "    <tr>\n",
       "      <th>8</th>\n",
       "      <td>66770</td>\n",
       "    </tr>\n",
       "    <tr>\n",
       "      <th>9</th>\n",
       "      <td>587556</td>\n",
       "    </tr>\n",
       "    <tr>\n",
       "      <th>10</th>\n",
       "      <td>26006</td>\n",
       "    </tr>\n",
       "    <tr>\n",
       "      <th>11</th>\n",
       "      <td>304724</td>\n",
       "    </tr>\n",
       "    <tr>\n",
       "      <th>12</th>\n",
       "      <td>486109</td>\n",
       "    </tr>\n",
       "    <tr>\n",
       "      <th>13</th>\n",
       "      <td>1288018</td>\n",
       "    </tr>\n",
       "    <tr>\n",
       "      <th>14</th>\n",
       "      <td>489079</td>\n",
       "    </tr>\n",
       "    <tr>\n",
       "      <th>15</th>\n",
       "      <td>732087</td>\n",
       "    </tr>\n",
       "    <tr>\n",
       "      <th>16</th>\n",
       "      <td>3854400</td>\n",
       "    </tr>\n",
       "    <tr>\n",
       "      <th>17</th>\n",
       "      <td>499389</td>\n",
       "    </tr>\n",
       "    <tr>\n",
       "      <th>18</th>\n",
       "      <td>317095</td>\n",
       "    </tr>\n",
       "    <tr>\n",
       "      <th>19</th>\n",
       "      <td>2043331</td>\n",
       "    </tr>\n",
       "    <tr>\n",
       "      <th>20</th>\n",
       "      <td>728319</td>\n",
       "    </tr>\n",
       "    <tr>\n",
       "      <th>21</th>\n",
       "      <td>54816</td>\n",
       "    </tr>\n",
       "  </tbody>\n",
       "</table>\n",
       "</div>"
      ],
      "text/plain": [
       "active_customer  active_user\n",
       "department_id               \n",
       "1                    1506028\n",
       "2                      25330\n",
       "3                     824658\n",
       "4                    6766088\n",
       "5                      99585\n",
       "6                     183858\n",
       "7                    1901312\n",
       "8                      66770\n",
       "9                     587556\n",
       "10                     26006\n",
       "11                    304724\n",
       "12                    486109\n",
       "13                   1288018\n",
       "14                    489079\n",
       "15                    732087\n",
       "16                   3854400\n",
       "17                    499389\n",
       "18                    317095\n",
       "19                   2043331\n",
       "20                    728319\n",
       "21                     54816"
      ]
     },
     "execution_count": 10,
     "metadata": {},
     "output_type": "execute_result"
    }
   ],
   "source": [
    "crosstab_all_users_departments = pd.crosstab(ords_prods_cust['department_id'], ords_prods_cust['active_customer'], dropna = False)\n",
    "crosstab_all_users_departments"
   ]
  },
  {
   "cell_type": "code",
   "execution_count": 12,
   "id": "a94275a6",
   "metadata": {},
   "outputs": [],
   "source": [
    "crosstab_all_users_departments.to_clipboard()"
   ]
  },
  {
   "cell_type": "code",
   "execution_count": 15,
   "id": "5c0c9f6c",
   "metadata": {},
   "outputs": [
    {
     "data": {
      "image/png": "[encoded data removed]",
      "text/plain": [
       "<Figure size 640x480 with 1 Axes>"
      ]
     },
     "metadata": {},
     "output_type": "display_data"
    }
   ],
   "source": [
    "bar_all_users_departments = crosstab_all_users_departments.plot(kind = 'bar', stacked = False, color = ['purple'])"
   ]
  },
  {
   "cell_type": "code",
   "execution_count": null,
   "id": "c17cf2f2",
   "metadata": {},
   "outputs": [],
   "source": [
    "# exporting the chart\n",
    "bar_all_users_departments.figure.savefig(os.path.join(path, '04_Analysis','Vizualizations', '4.10_bar_allusers_departments.png'))"
   ]
  },
  {
   "cell_type": "markdown",
   "id": "c25a675c",
   "metadata": {},
   "source": [
    "For keyquestion 5.6:"
   ]
  },
  {
   "cell_type": "code",
   "execution_count": 19,
   "id": "7b7c48b4",
   "metadata": {
    "scrolled": true
   },
   "outputs": [],
   "source": [
    "crosstab_age_prices = pd.crosstab(ords_prods_cust['prices'], ords_prods_cust['age_profile'], dropna = False)"
   ]
  },
  {
   "cell_type": "code",
   "execution_count": 20,
   "id": "9bd1aff9",
   "metadata": {},
   "outputs": [
    {
     "data": {
      "image/png": "[encoded data removed]",
      "text/plain": [
       "<Figure size 640x480 with 1 Axes>"
      ]
     },
     "metadata": {},
     "output_type": "display_data"
    }
   ],
   "source": [
    "bar_crosstab_age_prices = crosstab_age_prices.plot(kind = 'line', stacked = False, color = ['mediumblue', 'cornflowerblue','slategrey'])"
   ]
  },
  {
   "cell_type": "code",
   "execution_count": 16,
   "id": "5b64bff8",
   "metadata": {},
   "outputs": [],
   "source": [
    "# exporting the chart\n",
    "bar_crosstab_age_prices.figure.savefig(os.path.join(path, '04_Analysis','Vizualizations', '4.10_line_prices_ageprofile.png'))"
   ]
  },
  {
   "cell_type": "code",
   "execution_count": 21,
   "id": "0d649f63",
   "metadata": {},
   "outputs": [
    {
     "data": {
      "text/plain": [
       "Index(['department_id', 'prices', 'user_id', 'order_number', 'state', 'age',\n",
       "       'n_dependants', 'income', 'region', 'exclusion_flag', 'age_profile',\n",
       "       'wealth_profile', 'family_status_profile', 'pet_owner_profile',\n",
       "       'veggy_profile', 'alcohol_profile'],\n",
       "      dtype='object')"
      ]
     },
     "execution_count": 21,
     "metadata": {},
     "output_type": "execute_result"
    }
   ],
   "source": [
    "ords_prods_cust.columns"
   ]
  }
 ],
 "metadata": {
  "kernelspec": {
   "display_name": "Python 3 (ipykernel)",
   "language": "python",
   "name": "python3"
  },
  "language_info": {
   "codemirror_mode": {
    "name": "ipython",
    "version": 3
   },
   "file_extension": ".py",
   "mimetype": "text/x-python",
   "name": "python",
   "nbconvert_exporter": "python",
   "pygments_lexer": "ipython3",
   "version": "3.9.13"
  }
 },
 "nbformat": 4,
 "nbformat_minor": 5
}
